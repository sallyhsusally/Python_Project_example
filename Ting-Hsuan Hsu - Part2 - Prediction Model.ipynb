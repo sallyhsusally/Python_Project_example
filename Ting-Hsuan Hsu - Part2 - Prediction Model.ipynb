{
 "cells": [
  {
   "cell_type": "code",
   "execution_count": 1,
   "metadata": {},
   "outputs": [],
   "source": [
    "import numpy as np\n",
    "import pandas as pd\n",
    "import seaborn as sns\n",
    "\n",
    "import matplotlib.pylab as plt\n",
    "%matplotlib inline \n",
    "\n",
    "from sklearn import datasets\n",
    "from sklearn import preprocessing\n",
    "from sklearn.model_selection import train_test_split, cross_validate, cross_val_score\n",
    "from sklearn.metrics import confusion_matrix, classification_report, precision_score, accuracy_score, recall_score, f1_score"
   ]
  },
  {
   "cell_type": "markdown",
   "metadata": {},
   "source": [
    "<mark><font color='hotpink' size=8 face=雅黑>Date Preparing process for prediction model<font><mark>\n",
    "    \n",
    "    Basd on the previous visualization, I found some variable can be used to predict the persom is from where. Therefore, I am going to examine whether these variable can predict a person is from Asia region or from Western. "
   ]
  },
  {
   "cell_type": "markdown",
   "metadata": {},
   "source": [
    "### Step1: read the csv file"
   ]
  },
  {
   "cell_type": "code",
   "execution_count": 2,
   "metadata": {},
   "outputs": [
    {
     "name": "stderr",
     "output_type": "stream",
     "text": [
      "D:\\200826\\lib\\site-packages\\IPython\\core\\interactiveshell.py:3071: DtypeWarning: Columns (10,46,48,51,53,54,69,123,163,183) have mixed types.Specify dtype option on import or set low_memory=False.\n",
      "  has_raised = await self.run_ast_nodes(code_ast.body, cell_name,\n"
     ]
    },
    {
     "data": {
      "text/html": [
       "<div>\n",
       "<style scoped>\n",
       "    .dataframe tbody tr th:only-of-type {\n",
       "        vertical-align: middle;\n",
       "    }\n",
       "\n",
       "    .dataframe tbody tr th {\n",
       "        vertical-align: top;\n",
       "    }\n",
       "\n",
       "    .dataframe thead th {\n",
       "        text-align: right;\n",
       "    }\n",
       "</style>\n",
       "<table border=\"1\" class=\"dataframe\">\n",
       "  <thead>\n",
       "    <tr style=\"text-align: right;\">\n",
       "      <th></th>\n",
       "      <th>V2</th>\n",
       "      <th>V10</th>\n",
       "      <th>V23</th>\n",
       "      <th>V45</th>\n",
       "      <th>V47</th>\n",
       "      <th>V50</th>\n",
       "      <th>V52</th>\n",
       "      <th>V53</th>\n",
       "      <th>V67</th>\n",
       "      <th>V70</th>\n",
       "      <th>V71</th>\n",
       "      <th>V97</th>\n",
       "      <th>V120</th>\n",
       "      <th>V143</th>\n",
       "      <th>V163</th>\n",
       "      <th>V167</th>\n",
       "      <th>V172</th>\n",
       "      <th>V181</th>\n",
       "      <th>V203</th>\n",
       "      <th>V207</th>\n",
       "    </tr>\n",
       "  </thead>\n",
       "  <tbody>\n",
       "    <tr>\n",
       "      <th>0</th>\n",
       "      <td>Algeria</td>\n",
       "      <td>2</td>\n",
       "      <td>8</td>\n",
       "      <td>1</td>\n",
       "      <td>1</td>\n",
       "      <td>1</td>\n",
       "      <td>1</td>\n",
       "      <td>1</td>\n",
       "      <td>1</td>\n",
       "      <td>Very much like me</td>\n",
       "      <td>Very much like me</td>\n",
       "      <td>7</td>\n",
       "      <td>2</td>\n",
       "      <td>2</td>\n",
       "      <td>1</td>\n",
       "      <td>1</td>\n",
       "      <td>2</td>\n",
       "      <td>2</td>\n",
       "      <td>Never justifiable</td>\n",
       "      <td>Never justifiable</td>\n",
       "    </tr>\n",
       "    <tr>\n",
       "      <th>1</th>\n",
       "      <td>Algeria</td>\n",
       "      <td>2</td>\n",
       "      <td>5</td>\n",
       "      <td>1</td>\n",
       "      <td>1</td>\n",
       "      <td>2</td>\n",
       "      <td>2</td>\n",
       "      <td>3</td>\n",
       "      <td>1</td>\n",
       "      <td>Like me</td>\n",
       "      <td>Somewhat like me</td>\n",
       "      <td>5</td>\n",
       "      <td>2</td>\n",
       "      <td>1</td>\n",
       "      <td>3</td>\n",
       "      <td>2</td>\n",
       "      <td>2</td>\n",
       "      <td>2</td>\n",
       "      <td>Never justifiable</td>\n",
       "      <td>Never justifiable</td>\n",
       "    </tr>\n",
       "    <tr>\n",
       "      <th>2</th>\n",
       "      <td>Algeria</td>\n",
       "      <td>2</td>\n",
       "      <td>4</td>\n",
       "      <td>1</td>\n",
       "      <td>2</td>\n",
       "      <td>1</td>\n",
       "      <td>1</td>\n",
       "      <td>1</td>\n",
       "      <td>2</td>\n",
       "      <td>Very much like me</td>\n",
       "      <td>Like me</td>\n",
       "      <td>7</td>\n",
       "      <td>3</td>\n",
       "      <td>1</td>\n",
       "      <td>2</td>\n",
       "      <td>1</td>\n",
       "      <td>2</td>\n",
       "      <td>2</td>\n",
       "      <td>Never justifiable</td>\n",
       "      <td>Never justifiable</td>\n",
       "    </tr>\n",
       "    <tr>\n",
       "      <th>3</th>\n",
       "      <td>Algeria</td>\n",
       "      <td>2</td>\n",
       "      <td>8</td>\n",
       "      <td>2</td>\n",
       "      <td>1</td>\n",
       "      <td>2</td>\n",
       "      <td>2</td>\n",
       "      <td>2</td>\n",
       "      <td>1</td>\n",
       "      <td>Very much like me</td>\n",
       "      <td>Like me</td>\n",
       "      <td>5</td>\n",
       "      <td>2</td>\n",
       "      <td>2</td>\n",
       "      <td>3</td>\n",
       "      <td>2</td>\n",
       "      <td>2</td>\n",
       "      <td>2</td>\n",
       "      <td>Never justifiable</td>\n",
       "      <td>Never justifiable</td>\n",
       "    </tr>\n",
       "    <tr>\n",
       "      <th>4</th>\n",
       "      <td>Algeria</td>\n",
       "      <td>1</td>\n",
       "      <td>8</td>\n",
       "      <td>1</td>\n",
       "      <td>1</td>\n",
       "      <td>2</td>\n",
       "      <td>3</td>\n",
       "      <td>2</td>\n",
       "      <td>2</td>\n",
       "      <td>Like me</td>\n",
       "      <td>Not like me</td>\n",
       "      <td>4</td>\n",
       "      <td>3</td>\n",
       "      <td>2</td>\n",
       "      <td>2</td>\n",
       "      <td>3</td>\n",
       "      <td>3</td>\n",
       "      <td>2</td>\n",
       "      <td>Never justifiable</td>\n",
       "      <td>Never justifiable</td>\n",
       "    </tr>\n",
       "  </tbody>\n",
       "</table>\n",
       "</div>"
      ],
      "text/plain": [
       "        V2 V10 V23 V45 V47 V50 V52 V53 V67                V70  \\\n",
       "0  Algeria   2   8   1   1   1   1   1   1  Very much like me   \n",
       "1  Algeria   2   5   1   1   2   2   3   1            Like me   \n",
       "2  Algeria   2   4   1   2   1   1   1   2  Very much like me   \n",
       "3  Algeria   2   8   2   1   2   2   2   1  Very much like me   \n",
       "4  Algeria   1   8   1   1   2   3   2   2            Like me   \n",
       "\n",
       "                 V71 V97 V120 V143 V163 V167 V172 V181               V203  \\\n",
       "0  Very much like me   7    2    2    1    1    2    2  Never justifiable   \n",
       "1   Somewhat like me   5    2    1    3    2    2    2  Never justifiable   \n",
       "2            Like me   7    3    1    2    1    2    2  Never justifiable   \n",
       "3            Like me   5    2    2    3    2    2    2  Never justifiable   \n",
       "4        Not like me   4    3    2    2    3    3    2  Never justifiable   \n",
       "\n",
       "                V207  \n",
       "0  Never justifiable  \n",
       "1  Never justifiable  \n",
       "2  Never justifiable  \n",
       "3  Never justifiable  \n",
       "4  Never justifiable  "
      ]
     },
     "execution_count": 2,
     "metadata": {},
     "output_type": "execute_result"
    }
   ],
   "source": [
    "dfwv= pd.read_csv ('worldvalues-data.csv', na_values = '?', usecols = ['V2','V10','V23','V45','V47','V50','V52','V53','V67','V70','V71','V97','V120','V143','V163','V167','V172','V181','V203','V207'])\n",
    "dfwv.head()"
   ]
  },
  {
   "cell_type": "code",
   "execution_count": 3,
   "metadata": {},
   "outputs": [
    {
     "data": {
      "text/plain": [
       "array(['Algeria', 'Argentina', 'Armenia', 'Australia', 'Azerbaijan',\n",
       "       'Belarus', 'Brazil', 'Colombia', 'Cyprus', 'Chile', 'China',\n",
       "       'Ecuador', 'Egypt', 'Estonia', 'Georgia', 'Germany', 'Ghana',\n",
       "       'Haiti', 'Hong Kong', 'Iraq', 'Japan', 'Jordan', 'Kazakhstan',\n",
       "       'Kuwait', 'Kyrgyzstan', 'Lebanon', 'Libya', 'Malaysia', 'Mexico',\n",
       "       'Morocco', 'Netherlands', 'New Zealand', 'Nigeria', 'Pakistan',\n",
       "       'Palestine', 'Peru', 'Philippines', 'Poland', 'Qatar', 'Romania',\n",
       "       'Russia', 'Rwanda', 'Singapore', 'Slovenia', 'South Korea',\n",
       "       'South Africa', 'Spain', 'Sweden', 'Taiwan', 'Thailand',\n",
       "       'Trinidad and Tobago', 'Tunisia', 'Turkey', 'Ukraine',\n",
       "       'United States', 'Uruguay', 'Uzbekistan', 'Yemen', 'India',\n",
       "       'Zimbabwe'], dtype=object)"
      ]
     },
     "execution_count": 3,
     "metadata": {},
     "output_type": "execute_result"
    }
   ],
   "source": [
    "dfwv.V2.unique()"
   ]
  },
  {
   "cell_type": "markdown",
   "metadata": {},
   "source": [
    "### Step2: There are too many  regions on the Column V2. Furthermore, the regions I want to research are those who stay in Asia or in western. Therefore, I selected those taget region to create a new data frame"
   ]
  },
  {
   "cell_type": "code",
   "execution_count": 4,
   "metadata": {},
   "outputs": [],
   "source": [
    "df = dfwv[(dfwv.V2 == 'United States')|(dfwv.V2 == 'China')|(dfwv.V2 == 'Hong Kong')|(dfwv.V2 == 'Japan')|(dfwv.V2 == 'Malaysia')\n",
    "          |(dfwv.V2 == 'Netherlands') |(dfwv.V2 == 'Philippines')|(dfwv.V2 == 'Poland')|(dfwv.V2 == 'Singapore')\n",
    "          |(dfwv.V2 == 'South Korea')|(dfwv.V2 == 'Spain')|(dfwv.V2 == 'Sweden')|(dfwv.V2 == 'Taiwan')|(dfwv.V2 == 'Romania')\n",
    "          |(dfwv.V2 == 'Thailand')|(dfwv.V2 == 'India')|(dfwv.V2 == 'Germany')|(dfwv.V2 == 'New Zealand')|(dfwv.V2 == 'Morocco')|(dfwv.V2 == 'Australia')]"
   ]
  },
  {
   "cell_type": "code",
   "execution_count": 5,
   "metadata": {},
   "outputs": [
    {
     "data": {
      "text/plain": [
       "array(['Australia', 'China', 'Germany', 'Hong Kong', 'Japan', 'Malaysia',\n",
       "       'Morocco', 'Netherlands', 'New Zealand', 'Philippines', 'Poland',\n",
       "       'Romania', 'Singapore', 'South Korea', 'Spain', 'Sweden', 'Taiwan',\n",
       "       'Thailand', 'United States', 'India'], dtype=object)"
      ]
     },
     "execution_count": 5,
     "metadata": {},
     "output_type": "execute_result"
    }
   ],
   "source": [
    "df.V2.unique()"
   ]
  },
  {
   "cell_type": "markdown",
   "metadata": {},
   "source": [
    "### Step3: Seperated those regions into Asia or Western "
   ]
  },
  {
   "cell_type": "code",
   "execution_count": 6,
   "metadata": {},
   "outputs": [
    {
     "name": "stderr",
     "output_type": "stream",
     "text": [
      "D:\\200826\\lib\\site-packages\\pandas\\core\\frame.py:4166: SettingWithCopyWarning: \n",
      "A value is trying to be set on a copy of a slice from a DataFrame\n",
      "\n",
      "See the caveats in the documentation: https://pandas.pydata.org/pandas-docs/stable/user_guide/indexing.html#returning-a-view-versus-a-copy\n",
      "  return super().replace(\n"
     ]
    }
   ],
   "source": [
    "df.replace(['New Zealand','Morocco','Australia','Germany','China','Hong Kong', 'Japan', 'Malaysia', 'Netherlands', 'Philippines','Poland', 'Singapore', 'South Korea', 'Spain', 'Sweden', 'Taiwan','Thailand', 'United States', 'India','Romania'],\n",
    "        ['Western_countries','Western_countries','Western_countries','Western_countries','Asia','Asia','Asia','Asia','Western_countries','Asia','Western_countries','Asia','Asia','Western_countries','Western_countries','Asia','Asia','Western_countries','Asia','Western_countries'], inplace = True)"
   ]
  },
  {
   "cell_type": "code",
   "execution_count": 7,
   "metadata": {},
   "outputs": [
    {
     "data": {
      "text/plain": [
       "Asia                 17931\n",
       "Western_countries    14562\n",
       "Name: V2, dtype: int64"
      ]
     },
     "execution_count": 7,
     "metadata": {},
     "output_type": "execute_result"
    }
   ],
   "source": [
    "df.V2.value_counts()"
   ]
  },
  {
   "cell_type": "markdown",
   "metadata": {},
   "source": [
    "### Step4: Replace inappropriate response into Nan and then drop those missing value"
   ]
  },
  {
   "cell_type": "code",
   "execution_count": 8,
   "metadata": {},
   "outputs": [
    {
     "data": {
      "text/html": [
       "<div>\n",
       "<style scoped>\n",
       "    .dataframe tbody tr th:only-of-type {\n",
       "        vertical-align: middle;\n",
       "    }\n",
       "\n",
       "    .dataframe tbody tr th {\n",
       "        vertical-align: top;\n",
       "    }\n",
       "\n",
       "    .dataframe thead th {\n",
       "        text-align: right;\n",
       "    }\n",
       "</style>\n",
       "<table border=\"1\" class=\"dataframe\">\n",
       "  <thead>\n",
       "    <tr style=\"text-align: right;\">\n",
       "      <th></th>\n",
       "      <th>V2</th>\n",
       "      <th>V10</th>\n",
       "      <th>V23</th>\n",
       "      <th>V45</th>\n",
       "      <th>V47</th>\n",
       "      <th>V50</th>\n",
       "      <th>V52</th>\n",
       "      <th>V53</th>\n",
       "      <th>V67</th>\n",
       "      <th>V70</th>\n",
       "      <th>V71</th>\n",
       "      <th>V97</th>\n",
       "      <th>V120</th>\n",
       "      <th>V143</th>\n",
       "      <th>V163</th>\n",
       "      <th>V167</th>\n",
       "      <th>V172</th>\n",
       "      <th>V181</th>\n",
       "      <th>V203</th>\n",
       "      <th>V207</th>\n",
       "    </tr>\n",
       "  </thead>\n",
       "  <tbody>\n",
       "    <tr>\n",
       "      <th>3330</th>\n",
       "      <td>Western_countries</td>\n",
       "      <td>1</td>\n",
       "      <td>8</td>\n",
       "      <td>3</td>\n",
       "      <td>3</td>\n",
       "      <td>3</td>\n",
       "      <td>4</td>\n",
       "      <td>2</td>\n",
       "      <td>3</td>\n",
       "      <td>Very much like me</td>\n",
       "      <td>A little like me</td>\n",
       "      <td>6</td>\n",
       "      <td>2</td>\n",
       "      <td>2</td>\n",
       "      <td>2</td>\n",
       "      <td>3</td>\n",
       "      <td>3</td>\n",
       "      <td>3</td>\n",
       "      <td>6</td>\n",
       "      <td>Never justifiable</td>\n",
       "    </tr>\n",
       "    <tr>\n",
       "      <th>3331</th>\n",
       "      <td>Western_countries</td>\n",
       "      <td>2</td>\n",
       "      <td>8</td>\n",
       "      <td>3</td>\n",
       "      <td>3</td>\n",
       "      <td>3</td>\n",
       "      <td>4</td>\n",
       "      <td>4</td>\n",
       "      <td>1</td>\n",
       "      <td>Very much like me</td>\n",
       "      <td>Not like me</td>\n",
       "      <td>10</td>\n",
       "      <td>3</td>\n",
       "      <td>1</td>\n",
       "      <td>3</td>\n",
       "      <td>4</td>\n",
       "      <td>4</td>\n",
       "      <td>4</td>\n",
       "      <td>10</td>\n",
       "      <td>2</td>\n",
       "    </tr>\n",
       "    <tr>\n",
       "      <th>3332</th>\n",
       "      <td>Western_countries</td>\n",
       "      <td>3</td>\n",
       "      <td>3</td>\n",
       "      <td>2</td>\n",
       "      <td>1</td>\n",
       "      <td>2</td>\n",
       "      <td>3</td>\n",
       "      <td>2</td>\n",
       "      <td>2</td>\n",
       "      <td>Not at all like me</td>\n",
       "      <td>Somewhat like me</td>\n",
       "      <td>5</td>\n",
       "      <td>2</td>\n",
       "      <td>1</td>\n",
       "      <td>3</td>\n",
       "      <td>4</td>\n",
       "      <td>3</td>\n",
       "      <td>4</td>\n",
       "      <td>9</td>\n",
       "      <td>9</td>\n",
       "    </tr>\n",
       "    <tr>\n",
       "      <th>3333</th>\n",
       "      <td>Western_countries</td>\n",
       "      <td>2</td>\n",
       "      <td>8</td>\n",
       "      <td>3</td>\n",
       "      <td>1</td>\n",
       "      <td>3</td>\n",
       "      <td>3</td>\n",
       "      <td>3</td>\n",
       "      <td>1</td>\n",
       "      <td>Like me</td>\n",
       "      <td>A little like me</td>\n",
       "      <td>6</td>\n",
       "      <td>4</td>\n",
       "      <td>2</td>\n",
       "      <td>1</td>\n",
       "      <td>3</td>\n",
       "      <td>4</td>\n",
       "      <td>1</td>\n",
       "      <td>10</td>\n",
       "      <td>7</td>\n",
       "    </tr>\n",
       "    <tr>\n",
       "      <th>3334</th>\n",
       "      <td>Western_countries</td>\n",
       "      <td>2</td>\n",
       "      <td>3</td>\n",
       "      <td>3</td>\n",
       "      <td>2</td>\n",
       "      <td>3</td>\n",
       "      <td>3</td>\n",
       "      <td>3</td>\n",
       "      <td>1</td>\n",
       "      <td>Not like me</td>\n",
       "      <td>Not at all like me</td>\n",
       "      <td>5</td>\n",
       "      <td>3</td>\n",
       "      <td>3</td>\n",
       "      <td>1</td>\n",
       "      <td>1</td>\n",
       "      <td>3</td>\n",
       "      <td>2</td>\n",
       "      <td>8</td>\n",
       "      <td>Never justifiable</td>\n",
       "    </tr>\n",
       "  </tbody>\n",
       "</table>\n",
       "</div>"
      ],
      "text/plain": [
       "                     V2 V10 V23 V45 V47 V50 V52 V53 V67                 V70  \\\n",
       "3330  Western_countries   1   8   3   3   3   4   2   3   Very much like me   \n",
       "3331  Western_countries   2   8   3   3   3   4   4   1   Very much like me   \n",
       "3332  Western_countries   3   3   2   1   2   3   2   2  Not at all like me   \n",
       "3333  Western_countries   2   8   3   1   3   3   3   1             Like me   \n",
       "3334  Western_countries   2   3   3   2   3   3   3   1         Not like me   \n",
       "\n",
       "                     V71 V97 V120 V143 V163 V167 V172 V181 V203  \\\n",
       "3330    A little like me   6    2    2    2    3    3    3    6   \n",
       "3331         Not like me  10    3    1    3    4    4    4   10   \n",
       "3332    Somewhat like me   5    2    1    3    4    3    4    9   \n",
       "3333    A little like me   6    4    2    1    3    4    1   10   \n",
       "3334  Not at all like me   5    3    3    1    1    3    2    8   \n",
       "\n",
       "                   V207  \n",
       "3330  Never justifiable  \n",
       "3331                  2  \n",
       "3332                  9  \n",
       "3333                  7  \n",
       "3334  Never justifiable  "
      ]
     },
     "execution_count": 8,
     "metadata": {},
     "output_type": "execute_result"
    }
   ],
   "source": [
    "df.replace(['-1','-2','-3','-4','-5'],\n",
    "             [np.nan,np.nan,np.nan,np.nan,np.nan], inplace=True)\n",
    "df.head()"
   ]
  },
  {
   "cell_type": "code",
   "execution_count": 9,
   "metadata": {},
   "outputs": [
    {
     "name": "stderr",
     "output_type": "stream",
     "text": [
      "D:\\200826\\lib\\site-packages\\pandas\\core\\frame.py:4166: SettingWithCopyWarning: \n",
      "A value is trying to be set on a copy of a slice from a DataFrame\n",
      "\n",
      "See the caveats in the documentation: https://pandas.pydata.org/pandas-docs/stable/user_guide/indexing.html#returning-a-view-versus-a-copy\n",
      "  return super().replace(\n"
     ]
    },
    {
     "data": {
      "text/html": [
       "<div>\n",
       "<style scoped>\n",
       "    .dataframe tbody tr th:only-of-type {\n",
       "        vertical-align: middle;\n",
       "    }\n",
       "\n",
       "    .dataframe tbody tr th {\n",
       "        vertical-align: top;\n",
       "    }\n",
       "\n",
       "    .dataframe thead th {\n",
       "        text-align: right;\n",
       "    }\n",
       "</style>\n",
       "<table border=\"1\" class=\"dataframe\">\n",
       "  <thead>\n",
       "    <tr style=\"text-align: right;\">\n",
       "      <th></th>\n",
       "      <th>V2</th>\n",
       "      <th>V10</th>\n",
       "      <th>V23</th>\n",
       "      <th>V45</th>\n",
       "      <th>V47</th>\n",
       "      <th>V50</th>\n",
       "      <th>V52</th>\n",
       "      <th>V53</th>\n",
       "      <th>V67</th>\n",
       "      <th>V70</th>\n",
       "      <th>V71</th>\n",
       "      <th>V97</th>\n",
       "      <th>V120</th>\n",
       "      <th>V143</th>\n",
       "      <th>V163</th>\n",
       "      <th>V167</th>\n",
       "      <th>V172</th>\n",
       "      <th>V181</th>\n",
       "      <th>V203</th>\n",
       "      <th>V207</th>\n",
       "    </tr>\n",
       "  </thead>\n",
       "  <tbody>\n",
       "    <tr>\n",
       "      <th>3330</th>\n",
       "      <td>Western_countries</td>\n",
       "      <td>1</td>\n",
       "      <td>8</td>\n",
       "      <td>3</td>\n",
       "      <td>3</td>\n",
       "      <td>3</td>\n",
       "      <td>4</td>\n",
       "      <td>2</td>\n",
       "      <td>3</td>\n",
       "      <td>Very much like me</td>\n",
       "      <td>A little like me</td>\n",
       "      <td>6</td>\n",
       "      <td>2</td>\n",
       "      <td>2</td>\n",
       "      <td>2</td>\n",
       "      <td>3</td>\n",
       "      <td>3</td>\n",
       "      <td>3</td>\n",
       "      <td>6</td>\n",
       "      <td>Never justifiable</td>\n",
       "    </tr>\n",
       "    <tr>\n",
       "      <th>3331</th>\n",
       "      <td>Western_countries</td>\n",
       "      <td>2</td>\n",
       "      <td>8</td>\n",
       "      <td>3</td>\n",
       "      <td>3</td>\n",
       "      <td>3</td>\n",
       "      <td>4</td>\n",
       "      <td>4</td>\n",
       "      <td>1</td>\n",
       "      <td>Very much like me</td>\n",
       "      <td>Not like me</td>\n",
       "      <td>10</td>\n",
       "      <td>3</td>\n",
       "      <td>1</td>\n",
       "      <td>3</td>\n",
       "      <td>4</td>\n",
       "      <td>4</td>\n",
       "      <td>4</td>\n",
       "      <td>10</td>\n",
       "      <td>2</td>\n",
       "    </tr>\n",
       "    <tr>\n",
       "      <th>3332</th>\n",
       "      <td>Western_countries</td>\n",
       "      <td>3</td>\n",
       "      <td>3</td>\n",
       "      <td>2</td>\n",
       "      <td>1</td>\n",
       "      <td>2</td>\n",
       "      <td>3</td>\n",
       "      <td>2</td>\n",
       "      <td>2</td>\n",
       "      <td>Not at all like me</td>\n",
       "      <td>Somewhat like me</td>\n",
       "      <td>5</td>\n",
       "      <td>2</td>\n",
       "      <td>1</td>\n",
       "      <td>3</td>\n",
       "      <td>4</td>\n",
       "      <td>3</td>\n",
       "      <td>4</td>\n",
       "      <td>9</td>\n",
       "      <td>9</td>\n",
       "    </tr>\n",
       "    <tr>\n",
       "      <th>3333</th>\n",
       "      <td>Western_countries</td>\n",
       "      <td>2</td>\n",
       "      <td>8</td>\n",
       "      <td>3</td>\n",
       "      <td>1</td>\n",
       "      <td>3</td>\n",
       "      <td>3</td>\n",
       "      <td>3</td>\n",
       "      <td>1</td>\n",
       "      <td>Like me</td>\n",
       "      <td>A little like me</td>\n",
       "      <td>6</td>\n",
       "      <td>4</td>\n",
       "      <td>2</td>\n",
       "      <td>1</td>\n",
       "      <td>3</td>\n",
       "      <td>4</td>\n",
       "      <td>1</td>\n",
       "      <td>10</td>\n",
       "      <td>7</td>\n",
       "    </tr>\n",
       "    <tr>\n",
       "      <th>3334</th>\n",
       "      <td>Western_countries</td>\n",
       "      <td>2</td>\n",
       "      <td>3</td>\n",
       "      <td>3</td>\n",
       "      <td>2</td>\n",
       "      <td>3</td>\n",
       "      <td>3</td>\n",
       "      <td>3</td>\n",
       "      <td>1</td>\n",
       "      <td>Not like me</td>\n",
       "      <td>Not at all like me</td>\n",
       "      <td>5</td>\n",
       "      <td>3</td>\n",
       "      <td>3</td>\n",
       "      <td>1</td>\n",
       "      <td>1</td>\n",
       "      <td>3</td>\n",
       "      <td>2</td>\n",
       "      <td>8</td>\n",
       "      <td>Never justifiable</td>\n",
       "    </tr>\n",
       "  </tbody>\n",
       "</table>\n",
       "</div>"
      ],
      "text/plain": [
       "                     V2 V10 V23 V45 V47 V50 V52 V53 V67                 V70  \\\n",
       "3330  Western_countries   1   8   3   3   3   4   2   3   Very much like me   \n",
       "3331  Western_countries   2   8   3   3   3   4   4   1   Very much like me   \n",
       "3332  Western_countries   3   3   2   1   2   3   2   2  Not at all like me   \n",
       "3333  Western_countries   2   8   3   1   3   3   3   1             Like me   \n",
       "3334  Western_countries   2   3   3   2   3   3   3   1         Not like me   \n",
       "\n",
       "                     V71 V97 V120 V143 V163 V167 V172 V181 V203  \\\n",
       "3330    A little like me   6    2    2    2    3    3    3    6   \n",
       "3331         Not like me  10    3    1    3    4    4    4   10   \n",
       "3332    Somewhat like me   5    2    1    3    4    3    4    9   \n",
       "3333    A little like me   6    4    2    1    3    4    1   10   \n",
       "3334  Not at all like me   5    3    3    1    1    3    2    8   \n",
       "\n",
       "                   V207  \n",
       "3330  Never justifiable  \n",
       "3331                  2  \n",
       "3332                  9  \n",
       "3333                  7  \n",
       "3334  Never justifiable  "
      ]
     },
     "execution_count": 9,
     "metadata": {},
     "output_type": "execute_result"
    }
   ],
   "source": [
    "df.replace(['Dont know',\n",
    "              'HT: Missing-Dropped out survey; RU: Inappropriate response{Inappropriate}',\n",
    "              'No answer',\n",
    "              'Not applicable', \n",
    "              'AM,DE,SE:Inapplicable ; RU:Inappropriate response; SG: Refused; HT: Dropped out survey{Inappropriate}',\n",
    "             'SE:Inapplicable ; RU:Inappropriate response; BH: HT: Dropped out survey{Inappropriate}',\n",
    "             'DE,SE:Inapplicable ; RU:Inappropriate response; HT: Dropped out survey{Inappropriate}',\n",
    "              'Not asked in survey',\n",
    "              'DE,SE:Inapplicable; HT: Dropped out survey{Inappropriate}', \n",
    "              'Inapplicable (Neither has, nor seeks a job){Inapplicable}',\n",
    "              \"Don't know\",'HT: Dropped out survey; RU,DE: Inappropriate response{Inappropriate}',\n",
    "            'BH: Missing;DE: Inapplicable;HT: Dropped out survey;RU: Inappropriate response{Inappropriate}'],\n",
    "             [np.nan,np.nan,np.nan,np.nan,np.nan,np.nan,np.nan,np.nan,np.nan,np.nan,np.nan,np.nan,np.nan], inplace=True)\n",
    "df.head()"
   ]
  },
  {
   "cell_type": "code",
   "execution_count": 10,
   "metadata": {},
   "outputs": [
    {
     "name": "stderr",
     "output_type": "stream",
     "text": [
      "D:\\200826\\lib\\site-packages\\pandas\\core\\frame.py:4166: SettingWithCopyWarning: \n",
      "A value is trying to be set on a copy of a slice from a DataFrame\n",
      "\n",
      "See the caveats in the documentation: https://pandas.pydata.org/pandas-docs/stable/user_guide/indexing.html#returning-a-view-versus-a-copy\n",
      "  return super().replace(\n"
     ]
    },
    {
     "data": {
      "text/html": [
       "<div>\n",
       "<style scoped>\n",
       "    .dataframe tbody tr th:only-of-type {\n",
       "        vertical-align: middle;\n",
       "    }\n",
       "\n",
       "    .dataframe tbody tr th {\n",
       "        vertical-align: top;\n",
       "    }\n",
       "\n",
       "    .dataframe thead th {\n",
       "        text-align: right;\n",
       "    }\n",
       "</style>\n",
       "<table border=\"1\" class=\"dataframe\">\n",
       "  <thead>\n",
       "    <tr style=\"text-align: right;\">\n",
       "      <th></th>\n",
       "      <th>V2</th>\n",
       "      <th>V10</th>\n",
       "      <th>V23</th>\n",
       "      <th>V45</th>\n",
       "      <th>V47</th>\n",
       "      <th>V50</th>\n",
       "      <th>V52</th>\n",
       "      <th>V53</th>\n",
       "      <th>V67</th>\n",
       "      <th>V70</th>\n",
       "      <th>V71</th>\n",
       "      <th>V97</th>\n",
       "      <th>V120</th>\n",
       "      <th>V143</th>\n",
       "      <th>V163</th>\n",
       "      <th>V167</th>\n",
       "      <th>V172</th>\n",
       "      <th>V181</th>\n",
       "      <th>V203</th>\n",
       "      <th>V207</th>\n",
       "    </tr>\n",
       "  </thead>\n",
       "  <tbody>\n",
       "    <tr>\n",
       "      <th>3330</th>\n",
       "      <td>Western_countries</td>\n",
       "      <td>1</td>\n",
       "      <td>8</td>\n",
       "      <td>3</td>\n",
       "      <td>3</td>\n",
       "      <td>3</td>\n",
       "      <td>4</td>\n",
       "      <td>2</td>\n",
       "      <td>3</td>\n",
       "      <td>Very much like me</td>\n",
       "      <td>A little like me</td>\n",
       "      <td>6</td>\n",
       "      <td>2</td>\n",
       "      <td>2</td>\n",
       "      <td>2</td>\n",
       "      <td>3</td>\n",
       "      <td>3</td>\n",
       "      <td>3</td>\n",
       "      <td>6</td>\n",
       "      <td>Never justifiable</td>\n",
       "    </tr>\n",
       "    <tr>\n",
       "      <th>3331</th>\n",
       "      <td>Western_countries</td>\n",
       "      <td>2</td>\n",
       "      <td>8</td>\n",
       "      <td>3</td>\n",
       "      <td>3</td>\n",
       "      <td>3</td>\n",
       "      <td>4</td>\n",
       "      <td>4</td>\n",
       "      <td>1</td>\n",
       "      <td>Very much like me</td>\n",
       "      <td>Not like me</td>\n",
       "      <td>10</td>\n",
       "      <td>3</td>\n",
       "      <td>1</td>\n",
       "      <td>3</td>\n",
       "      <td>4</td>\n",
       "      <td>4</td>\n",
       "      <td>4</td>\n",
       "      <td>10</td>\n",
       "      <td>2</td>\n",
       "    </tr>\n",
       "    <tr>\n",
       "      <th>3332</th>\n",
       "      <td>Western_countries</td>\n",
       "      <td>3</td>\n",
       "      <td>3</td>\n",
       "      <td>2</td>\n",
       "      <td>1</td>\n",
       "      <td>2</td>\n",
       "      <td>3</td>\n",
       "      <td>2</td>\n",
       "      <td>2</td>\n",
       "      <td>Not at all like me</td>\n",
       "      <td>Somewhat like me</td>\n",
       "      <td>5</td>\n",
       "      <td>2</td>\n",
       "      <td>1</td>\n",
       "      <td>3</td>\n",
       "      <td>4</td>\n",
       "      <td>3</td>\n",
       "      <td>4</td>\n",
       "      <td>9</td>\n",
       "      <td>9</td>\n",
       "    </tr>\n",
       "    <tr>\n",
       "      <th>3333</th>\n",
       "      <td>Western_countries</td>\n",
       "      <td>2</td>\n",
       "      <td>8</td>\n",
       "      <td>3</td>\n",
       "      <td>1</td>\n",
       "      <td>3</td>\n",
       "      <td>3</td>\n",
       "      <td>3</td>\n",
       "      <td>1</td>\n",
       "      <td>Like me</td>\n",
       "      <td>A little like me</td>\n",
       "      <td>6</td>\n",
       "      <td>4</td>\n",
       "      <td>2</td>\n",
       "      <td>1</td>\n",
       "      <td>3</td>\n",
       "      <td>4</td>\n",
       "      <td>1</td>\n",
       "      <td>10</td>\n",
       "      <td>7</td>\n",
       "    </tr>\n",
       "    <tr>\n",
       "      <th>3334</th>\n",
       "      <td>Western_countries</td>\n",
       "      <td>2</td>\n",
       "      <td>3</td>\n",
       "      <td>3</td>\n",
       "      <td>2</td>\n",
       "      <td>3</td>\n",
       "      <td>3</td>\n",
       "      <td>3</td>\n",
       "      <td>1</td>\n",
       "      <td>Not like me</td>\n",
       "      <td>Not at all like me</td>\n",
       "      <td>5</td>\n",
       "      <td>3</td>\n",
       "      <td>3</td>\n",
       "      <td>1</td>\n",
       "      <td>1</td>\n",
       "      <td>3</td>\n",
       "      <td>2</td>\n",
       "      <td>8</td>\n",
       "      <td>Never justifiable</td>\n",
       "    </tr>\n",
       "  </tbody>\n",
       "</table>\n",
       "</div>"
      ],
      "text/plain": [
       "                     V2 V10 V23 V45 V47 V50 V52 V53 V67                 V70  \\\n",
       "3330  Western_countries   1   8   3   3   3   4   2   3   Very much like me   \n",
       "3331  Western_countries   2   8   3   3   3   4   4   1   Very much like me   \n",
       "3332  Western_countries   3   3   2   1   2   3   2   2  Not at all like me   \n",
       "3333  Western_countries   2   8   3   1   3   3   3   1             Like me   \n",
       "3334  Western_countries   2   3   3   2   3   3   3   1         Not like me   \n",
       "\n",
       "                     V71 V97 V120 V143 V163 V167 V172 V181 V203  \\\n",
       "3330    A little like me   6    2    2    2    3    3    3    6   \n",
       "3331         Not like me  10    3    1    3    4    4    4   10   \n",
       "3332    Somewhat like me   5    2    1    3    4    3    4    9   \n",
       "3333    A little like me   6    4    2    1    3    4    1   10   \n",
       "3334  Not at all like me   5    3    3    1    1    3    2    8   \n",
       "\n",
       "                   V207  \n",
       "3330  Never justifiable  \n",
       "3331                  2  \n",
       "3332                  9  \n",
       "3333                  7  \n",
       "3334  Never justifiable  "
      ]
     },
     "execution_count": 10,
     "metadata": {},
     "output_type": "execute_result"
    }
   ],
   "source": [
    "df.replace([1,2,3,4],[np.nan,np.nan,np.nan,np.nan],inplace = True)\n",
    "df.head()"
   ]
  },
  {
   "cell_type": "code",
   "execution_count": 11,
   "metadata": {},
   "outputs": [
    {
     "name": "stdout",
     "output_type": "stream",
     "text": [
      "(32493, 20)\n",
      "(16428, 20)\n"
     ]
    },
    {
     "name": "stderr",
     "output_type": "stream",
     "text": [
      "<ipython-input-11-62322916f4ae>:2: SettingWithCopyWarning: \n",
      "A value is trying to be set on a copy of a slice from a DataFrame\n",
      "\n",
      "See the caveats in the documentation: https://pandas.pydata.org/pandas-docs/stable/user_guide/indexing.html#returning-a-view-versus-a-copy\n",
      "  df.dropna(how='any',inplace= True)\n"
     ]
    }
   ],
   "source": [
    "print(df.shape)\n",
    "df.dropna(how='any',inplace= True)\n",
    "print(df.shape)"
   ]
  },
  {
   "cell_type": "markdown",
   "metadata": {},
   "source": [
    "### Step5:  Make sure each variable are integer variable"
   ]
  },
  {
   "cell_type": "code",
   "execution_count": 12,
   "metadata": {},
   "outputs": [
    {
     "name": "stdout",
     "output_type": "stream",
     "text": [
      "\n",
      " \n",
      " {'Western_countries', 'Asia'}\n",
      "\n",
      " \n",
      " {'3', '4', '1', '2'}\n",
      "\n",
      " \n",
      " {'6', 'Completely dissatisfied', '5', '4', '3', '2', '8', '7', '9', '10'}\n",
      "\n",
      " \n",
      " {'3', '1', '2'}\n",
      "\n",
      " \n",
      " {'3', '1', '2'}\n",
      "\n",
      " \n",
      " {'3', '1', '2', '4'}\n",
      "\n",
      " \n",
      " {'3', '1', '2', '4'}\n",
      "\n",
      " \n",
      " {'3', '1', '2', '4'}\n",
      "\n",
      " \n",
      " {'3', '1', '2'}\n",
      "\n",
      " \n",
      " {'Not like me', 'Somewhat like me', 'Very much like me', 'A little like me', 'Not at all like me', 'Like me'}\n",
      "\n",
      " \n",
      " {'Not like me', 'Somewhat like me', 'Very much like me', 'A little like me', 'Not at all like me', 'Like me'}\n",
      "\n",
      " \n",
      " {'6', '5', '4', '3', '2', '8', 'Private ownership of business and industry should be increased', '7', '9', '10'}\n",
      "\n",
      " \n",
      " {'3', '1', '2', '4'}\n",
      "\n",
      " \n",
      " {'3', '1', '2', '4'}\n",
      "\n",
      " \n",
      " {'3', '2', 'Not at all likely to be seen like this', '1', 'Very likely to be viewed that way'}\n",
      "\n",
      " \n",
      " {'3', '1', '2', '4'}\n",
      "\n",
      " \n",
      " {'3', '1', '2', '4'}\n",
      "\n",
      " \n",
      " {'3', '1', '2', '4'}\n",
      "\n",
      " \n",
      " {'6', 'Never justifiable', '5', '4', '3', '2', '8', '7', '9', '10'}\n",
      "\n",
      " \n",
      " {'6', 'Never justifiable', '5', '4', '3', '2', '7', '8', '9', '10'}\n"
     ]
    }
   ],
   "source": [
    "print('\\n \\n',set(df.V2))\n",
    "print('\\n \\n',set(df.V10))\n",
    "print('\\n \\n',set(df.V23))\n",
    "print('\\n \\n',set(df.V45))\n",
    "print('\\n \\n',set(df.V47))\n",
    "print('\\n \\n',set(df.V50))\n",
    "print('\\n \\n',set(df.V52))\n",
    "print('\\n \\n',set(df.V53))\n",
    "print('\\n \\n',set(df.V67))\n",
    "print('\\n \\n',set(df.V70))\n",
    "print('\\n \\n',set(df.V71))\n",
    "print('\\n \\n',set(df.V97))\n",
    "print('\\n \\n',set(df.V120))\n",
    "print('\\n \\n',set(df.V143))\n",
    "print('\\n \\n',set(df.V163))\n",
    "print('\\n \\n',set(df.V167))\n",
    "print('\\n \\n',set(df.V172))\n",
    "print('\\n \\n',set(df.V181))\n",
    "print('\\n \\n',set(df.V203))\n",
    "print('\\n \\n',set(df.V207))"
   ]
  },
  {
   "cell_type": "code",
   "execution_count": 13,
   "metadata": {},
   "outputs": [
    {
     "name": "stderr",
     "output_type": "stream",
     "text": [
      "D:\\200826\\lib\\site-packages\\pandas\\core\\generic.py:5303: SettingWithCopyWarning: \n",
      "A value is trying to be set on a copy of a slice from a DataFrame.\n",
      "Try using .loc[row_indexer,col_indexer] = value instead\n",
      "\n",
      "See the caveats in the documentation: https://pandas.pydata.org/pandas-docs/stable/user_guide/indexing.html#returning-a-view-versus-a-copy\n",
      "  self[name] = value\n"
     ]
    }
   ],
   "source": [
    "df.V2 = np.where(df.V2 == 'Asia',1,0)\n",
    "df.V10 = df.V10.map( {'3':1, '4':0, '2':2, '1':3})\n",
    "df.V23 = df.V23.map({'4':3, '8':7, '10':9, '6':5, 'Completely dissatisfied':0, '9':8, '2':1, '5':4, '3':2, '7':6})\n",
    "\n",
    "df.V45 = df.V45.map({'3':0, '2':1, '1':2})\n",
    "df.V47 = df.V47.map({'3':0, '2':1, '1':2})\n",
    "df.V50 = df.V50.map({'3':1, '2':2, '4':0, '1':3})\n",
    "df.V52 = df.V52.map({'3':1, '2':2, '4':0, '1':3})\n",
    "df.V53 = df.V53.map({'3':1, '2':2, '4':0, '1':3})\n",
    "\n",
    "df.V67 = df.V67.map({'3':0, '2':1, '1':2})\n",
    "df.V70 = df.V70.map( {'Not like me':1, 'Like me':4, 'Not at all like me':0, 'Somewhat like me':3, 'Very much like me':5, 'A little like me':2})\n",
    "df.V71 = df.V71.map( {'Not like me':1, 'Like me':4, 'Not at all like me':0, 'Somewhat like me':3, 'Very much like me':5, 'A little like me':2})\n",
    "df.V97 = df.V97.map({'4':3, '7':6, '6':5, '10':9, 'Private ownership of business and industry should be increased':0, '9':8, '2':1, '5':4, '3':2, '8':7})\n",
    "df.V120 = df.V120.map({'4':0, '2':2, '1':3, '3':1})\n",
    "df.V143 = df.V143.map({'3':1, '4':0, '2':2, '1':3})\n",
    "df.V163 = df.V163.map( {'Very likely to be viewed that way':4, '2':2, '1':1, 'Not at all likely to be seen like this':0, '3':3})\n",
    "df.V167= df.V167.map( {'3':1, '4':0, '2':2, '1':3})\n",
    "df.V172 = df.V172.map( {'4':0, '2':2, '1':3, '3':1})\n",
    "df.V181 = df.V181.map( {'3':1, '4':0, '2':2, '1':3})\n",
    "df.V203 = df.V203.map({'9':8, 'Never justifiable':0, '3':2, '10':9, '7':6, '4':3, '8':7, '6':5, '2':1, '5':4})\n",
    "df.V207 = df.V207.map( {'4':3, '8':7, 'Never justifiable':0, '10':9, '6':5, '9':8, '2':1, '5':4, '3':2, '7':6})"
   ]
  },
  {
   "cell_type": "code",
   "execution_count": 14,
   "metadata": {},
   "outputs": [
    {
     "data": {
      "text/plain": [
       "0"
      ]
     },
     "execution_count": 14,
     "metadata": {},
     "output_type": "execute_result"
    }
   ],
   "source": [
    "numMissing = df.isnull().sum().sum()\n",
    "numMissing "
   ]
  },
  {
   "cell_type": "code",
   "execution_count": 15,
   "metadata": {},
   "outputs": [
    {
     "name": "stdout",
     "output_type": "stream",
     "text": [
      "<class 'pandas.core.frame.DataFrame'>\n",
      "Int64Index: 16428 entries, 3330 to 80485\n",
      "Data columns (total 20 columns):\n",
      " #   Column  Non-Null Count  Dtype\n",
      "---  ------  --------------  -----\n",
      " 0   V2      16428 non-null  int32\n",
      " 1   V10     16428 non-null  int64\n",
      " 2   V23     16428 non-null  int64\n",
      " 3   V45     16428 non-null  int64\n",
      " 4   V47     16428 non-null  int64\n",
      " 5   V50     16428 non-null  int64\n",
      " 6   V52     16428 non-null  int64\n",
      " 7   V53     16428 non-null  int64\n",
      " 8   V67     16428 non-null  int64\n",
      " 9   V70     16428 non-null  int64\n",
      " 10  V71     16428 non-null  int64\n",
      " 11  V97     16428 non-null  int64\n",
      " 12  V120    16428 non-null  int64\n",
      " 13  V143    16428 non-null  int64\n",
      " 14  V163    16428 non-null  int64\n",
      " 15  V167    16428 non-null  int64\n",
      " 16  V172    16428 non-null  int64\n",
      " 17  V181    16428 non-null  int64\n",
      " 18  V203    16428 non-null  int64\n",
      " 19  V207    16428 non-null  int64\n",
      "dtypes: int32(1), int64(19)\n",
      "memory usage: 2.6 MB\n"
     ]
    }
   ],
   "source": [
    "df.info()"
   ]
  },
  {
   "cell_type": "code",
   "execution_count": 16,
   "metadata": {},
   "outputs": [
    {
     "data": {
      "text/plain": [
       "Index(['V2', 'V10', 'V23', 'V45', 'V47', 'V50', 'V52', 'V53', 'V67', 'V70',\n",
       "       'V71', 'V97', 'V120', 'V143', 'V163', 'V167', 'V172', 'V181', 'V203',\n",
       "       'V207'],\n",
       "      dtype='object')"
      ]
     },
     "execution_count": 16,
     "metadata": {},
     "output_type": "execute_result"
    }
   ],
   "source": [
    "df.columns"
   ]
  },
  {
   "cell_type": "markdown",
   "metadata": {},
   "source": [
    "<mark><font color='hotpink' size=8 face=雅黑>Starts point for prediction model<font><mark>\n",
    "    1. Wothout cross validation \n",
    "    2. With cross validation "
   ]
  },
  {
   "cell_type": "markdown",
   "metadata": {},
   "source": [
    "### Training a Binary Classifier\n",
    "Set the X and Y variable. ( In terms of Y variable, Asia area = 1, others = 0)"
   ]
  },
  {
   "cell_type": "code",
   "execution_count": 17,
   "metadata": {},
   "outputs": [
    {
     "name": "stdout",
     "output_type": "stream",
     "text": [
      "(16428, 20)\n"
     ]
    },
    {
     "name": "stderr",
     "output_type": "stream",
     "text": [
      "<ipython-input-17-16c888ec8aff>:1: SettingWithCopyWarning: \n",
      "A value is trying to be set on a copy of a slice from a DataFrame.\n",
      "Try using .loc[row_indexer,col_indexer] = value instead\n",
      "\n",
      "See the caveats in the documentation: https://pandas.pydata.org/pandas-docs/stable/user_guide/indexing.html#returning-a-view-versus-a-copy\n",
      "  df['Outcome'] = df.V2\n"
     ]
    }
   ],
   "source": [
    "df['Outcome'] = df.V2\n",
    "del df['V2']\n",
    "print(df.shape)"
   ]
  },
  {
   "cell_type": "code",
   "execution_count": 18,
   "metadata": {},
   "outputs": [],
   "source": [
    "random_state =  42"
   ]
  },
  {
   "cell_type": "code",
   "execution_count": 19,
   "metadata": {},
   "outputs": [],
   "source": [
    "X = df.iloc[:, 0:19].values"
   ]
  },
  {
   "cell_type": "code",
   "execution_count": 20,
   "metadata": {},
   "outputs": [
    {
     "name": "stdout",
     "output_type": "stream",
     "text": [
      "(16428, 19)\n",
      "<class 'numpy.ndarray'>\n"
     ]
    }
   ],
   "source": [
    "print(X.shape)\n",
    "print(type(X))"
   ]
  },
  {
   "cell_type": "code",
   "execution_count": 21,
   "metadata": {},
   "outputs": [],
   "source": [
    "Y = df.iloc[:, 19].values"
   ]
  },
  {
   "cell_type": "code",
   "execution_count": 22,
   "metadata": {},
   "outputs": [
    {
     "name": "stdout",
     "output_type": "stream",
     "text": [
      "(16428,)\n",
      "<class 'numpy.ndarray'>\n"
     ]
    }
   ],
   "source": [
    "print(Y.shape)\n",
    "print(type(Y))"
   ]
  },
  {
   "cell_type": "markdown",
   "metadata": {},
   "source": [
    "<mark><font color='hotpink' size=7 face=雅黑>1.Without Cross Validation<font><mark>"
   ]
  },
  {
   "cell_type": "markdown",
   "metadata": {},
   "source": [
    "### Creating Training and Test Datasets"
   ]
  },
  {
   "cell_type": "code",
   "execution_count": 23,
   "metadata": {},
   "outputs": [],
   "source": [
    "X_train, X_test, Y_train, Y_test = train_test_split(X, Y, test_size=0.2, random_state=random_state)\n",
    "X_train, X_val, Y_train, Y_val = train_test_split(X_train, Y_train, test_size=0.25, random_state=random_state)"
   ]
  },
  {
   "cell_type": "code",
   "execution_count": 24,
   "metadata": {},
   "outputs": [
    {
     "name": "stdout",
     "output_type": "stream",
     "text": [
      "(9856, 19)\n",
      "(3286, 19)\n",
      "(3286, 19)\n"
     ]
    }
   ],
   "source": [
    "print(X_train.shape)\n",
    "print(X_val.shape)\n",
    "print(X_test.shape)"
   ]
  },
  {
   "cell_type": "code",
   "execution_count": 25,
   "metadata": {},
   "outputs": [
    {
     "name": "stdout",
     "output_type": "stream",
     "text": [
      "(9856,)\n",
      "(3286,)\n",
      "(3286,)\n"
     ]
    }
   ],
   "source": [
    "print(Y_train.shape)\n",
    "print(Y_val.shape)\n",
    "print(Y_test.shape)"
   ]
  },
  {
   "cell_type": "markdown",
   "metadata": {},
   "source": [
    "### Feature Selection"
   ]
  },
  {
   "cell_type": "code",
   "execution_count": 26,
   "metadata": {},
   "outputs": [],
   "source": [
    "from sklearn.feature_selection import SelectKBest, chi2"
   ]
  },
  {
   "cell_type": "code",
   "execution_count": 27,
   "metadata": {},
   "outputs": [],
   "source": [
    "ch2 = SelectKBest(chi2, k=10) \n",
    "X_train = ch2.fit_transform(X_train, Y_train)\n",
    "X_test = ch2.transform(X_test)\n",
    "X_val = ch2.transform(X_val)"
   ]
  },
  {
   "cell_type": "code",
   "execution_count": 28,
   "metadata": {},
   "outputs": [
    {
     "name": "stdout",
     "output_type": "stream",
     "text": [
      "(9856, 10)\n",
      "(3286, 10)\n"
     ]
    }
   ],
   "source": [
    "print(X_train.shape)\n",
    "print(X_test.shape)"
   ]
  },
  {
   "cell_type": "code",
   "execution_count": 29,
   "metadata": {},
   "outputs": [
    {
     "data": {
      "text/plain": [
       "Index(['V45', 'V47', 'V50', 'V52', 'V53', 'V97', 'V120', 'V181', 'V203',\n",
       "       'V207'],\n",
       "      dtype='object')"
      ]
     },
     "execution_count": 29,
     "metadata": {},
     "output_type": "execute_result"
    }
   ],
   "source": [
    "cols = ch2.get_support(indices=True)\n",
    "df.iloc[:,cols].columns"
   ]
  },
  {
   "cell_type": "markdown",
   "metadata": {},
   "source": [
    "### Feature Scaling"
   ]
  },
  {
   "cell_type": "code",
   "execution_count": 30,
   "metadata": {},
   "outputs": [],
   "source": [
    "from sklearn.preprocessing import StandardScaler\n",
    "\n",
    "sc = StandardScaler()\n",
    "X_train = sc.fit_transform(X_train)\n",
    "X_test = sc.transform(X_test)\n",
    "X_val = sc.transform(X_val)"
   ]
  },
  {
   "cell_type": "markdown",
   "metadata": {},
   "source": [
    "### Tuning Hyperparameters"
   ]
  },
  {
   "cell_type": "code",
   "execution_count": 31,
   "metadata": {},
   "outputs": [],
   "source": [
    "from sklearn.metrics import plot_roc_curve, roc_auc_score\n",
    "from sklearn.neighbors import KNeighborsClassifier"
   ]
  },
  {
   "cell_type": "code",
   "execution_count": 32,
   "metadata": {},
   "outputs": [
    {
     "data": {
      "text/html": [
       "<div>\n",
       "<style scoped>\n",
       "    .dataframe tbody tr th:only-of-type {\n",
       "        vertical-align: middle;\n",
       "    }\n",
       "\n",
       "    .dataframe tbody tr th {\n",
       "        vertical-align: top;\n",
       "    }\n",
       "\n",
       "    .dataframe thead th {\n",
       "        text-align: right;\n",
       "    }\n",
       "</style>\n",
       "<table border=\"1\" class=\"dataframe\">\n",
       "  <thead>\n",
       "    <tr style=\"text-align: right;\">\n",
       "      <th></th>\n",
       "      <th></th>\n",
       "      <th>accuracy</th>\n",
       "      <th>F1</th>\n",
       "      <th>ROC_area</th>\n",
       "    </tr>\n",
       "    <tr>\n",
       "      <th>neighbors</th>\n",
       "      <th>weight</th>\n",
       "      <th></th>\n",
       "      <th></th>\n",
       "      <th></th>\n",
       "    </tr>\n",
       "  </thead>\n",
       "  <tbody>\n",
       "    <tr>\n",
       "      <th rowspan=\"2\" valign=\"top\">1</th>\n",
       "      <th>uniform</th>\n",
       "      <td>0.691114</td>\n",
       "      <td>0.691061</td>\n",
       "      <td>0.687193</td>\n",
       "    </tr>\n",
       "    <tr>\n",
       "      <th>distance</th>\n",
       "      <td>0.691114</td>\n",
       "      <td>0.691061</td>\n",
       "      <td>0.687193</td>\n",
       "    </tr>\n",
       "    <tr>\n",
       "      <th rowspan=\"2\" valign=\"top\">2</th>\n",
       "      <th>uniform</th>\n",
       "      <td>0.688679</td>\n",
       "      <td>0.674049</td>\n",
       "      <td>0.742335</td>\n",
       "    </tr>\n",
       "    <tr>\n",
       "      <th>distance</th>\n",
       "      <td>0.692331</td>\n",
       "      <td>0.691724</td>\n",
       "      <td>0.738715</td>\n",
       "    </tr>\n",
       "    <tr>\n",
       "      <th rowspan=\"2\" valign=\"top\">3</th>\n",
       "      <th>uniform</th>\n",
       "      <td>0.719720</td>\n",
       "      <td>0.719143</td>\n",
       "      <td>0.769474</td>\n",
       "    </tr>\n",
       "    <tr>\n",
       "      <th>distance</th>\n",
       "      <td>0.712416</td>\n",
       "      <td>0.711773</td>\n",
       "      <td>0.762260</td>\n",
       "    </tr>\n",
       "    <tr>\n",
       "      <th rowspan=\"2\" valign=\"top\">4</th>\n",
       "      <th>uniform</th>\n",
       "      <td>0.720329</td>\n",
       "      <td>0.713725</td>\n",
       "      <td>0.789780</td>\n",
       "    </tr>\n",
       "    <tr>\n",
       "      <th>distance</th>\n",
       "      <td>0.714547</td>\n",
       "      <td>0.714093</td>\n",
       "      <td>0.777586</td>\n",
       "    </tr>\n",
       "    <tr>\n",
       "      <th rowspan=\"2\" valign=\"top\">5</th>\n",
       "      <th>uniform</th>\n",
       "      <td>0.739197</td>\n",
       "      <td>0.739097</td>\n",
       "      <td>0.802367</td>\n",
       "    </tr>\n",
       "    <tr>\n",
       "      <th>distance</th>\n",
       "      <td>0.727632</td>\n",
       "      <td>0.727386</td>\n",
       "      <td>0.787040</td>\n",
       "    </tr>\n",
       "    <tr>\n",
       "      <th rowspan=\"2\" valign=\"top\">6</th>\n",
       "      <th>uniform</th>\n",
       "      <td>0.730371</td>\n",
       "      <td>0.726563</td>\n",
       "      <td>0.807317</td>\n",
       "    </tr>\n",
       "    <tr>\n",
       "      <th>distance</th>\n",
       "      <td>0.730980</td>\n",
       "      <td>0.730768</td>\n",
       "      <td>0.791435</td>\n",
       "    </tr>\n",
       "    <tr>\n",
       "      <th rowspan=\"2\" valign=\"top\">7</th>\n",
       "      <th>uniform</th>\n",
       "      <td>0.742240</td>\n",
       "      <td>0.742123</td>\n",
       "      <td>0.812655</td>\n",
       "    </tr>\n",
       "    <tr>\n",
       "      <th>distance</th>\n",
       "      <td>0.730067</td>\n",
       "      <td>0.729844</td>\n",
       "      <td>0.795725</td>\n",
       "    </tr>\n",
       "    <tr>\n",
       "      <th rowspan=\"2\" valign=\"top\">8</th>\n",
       "      <th>uniform</th>\n",
       "      <td>0.741631</td>\n",
       "      <td>0.739003</td>\n",
       "      <td>0.815229</td>\n",
       "    </tr>\n",
       "    <tr>\n",
       "      <th>distance</th>\n",
       "      <td>0.737371</td>\n",
       "      <td>0.737051</td>\n",
       "      <td>0.797054</td>\n",
       "    </tr>\n",
       "    <tr>\n",
       "      <th rowspan=\"2\" valign=\"top\">9</th>\n",
       "      <th>uniform</th>\n",
       "      <td>0.747109</td>\n",
       "      <td>0.746919</td>\n",
       "      <td>0.818866</td>\n",
       "    </tr>\n",
       "    <tr>\n",
       "      <th>distance</th>\n",
       "      <td>0.735545</td>\n",
       "      <td>0.735244</td>\n",
       "      <td>0.799490</td>\n",
       "    </tr>\n",
       "  </tbody>\n",
       "</table>\n",
       "</div>"
      ],
      "text/plain": [
       "                    accuracy        F1  ROC_area\n",
       "neighbors weight                                \n",
       "1         uniform   0.691114  0.691061  0.687193\n",
       "          distance  0.691114  0.691061  0.687193\n",
       "2         uniform   0.688679  0.674049  0.742335\n",
       "          distance  0.692331  0.691724  0.738715\n",
       "3         uniform   0.719720  0.719143  0.769474\n",
       "          distance  0.712416  0.711773  0.762260\n",
       "4         uniform   0.720329  0.713725  0.789780\n",
       "          distance  0.714547  0.714093  0.777586\n",
       "5         uniform   0.739197  0.739097  0.802367\n",
       "          distance  0.727632  0.727386  0.787040\n",
       "6         uniform   0.730371  0.726563  0.807317\n",
       "          distance  0.730980  0.730768  0.791435\n",
       "7         uniform   0.742240  0.742123  0.812655\n",
       "          distance  0.730067  0.729844  0.795725\n",
       "8         uniform   0.741631  0.739003  0.815229\n",
       "          distance  0.737371  0.737051  0.797054\n",
       "9         uniform   0.747109  0.746919  0.818866\n",
       "          distance  0.735545  0.735244  0.799490"
      ]
     },
     "execution_count": 32,
     "metadata": {},
     "output_type": "execute_result"
    }
   ],
   "source": [
    "df_knn = pd.DataFrame(columns= ['neighbors','weight', 'accuracy', 'F1', 'ROC_area'])\n",
    "\n",
    "for neighbor_count in range (1,10):\n",
    "    for weight_metric in ['uniform', 'distance']:    \n",
    "        knn_ht = KNeighborsClassifier(n_neighbors=neighbor_count, weights=weight_metric)\n",
    "        knn_ht.fit(X_train, Y_train)\n",
    "\n",
    "        Y_pred_prob_ht = knn_ht.predict_proba(X_test)[:, 1]\n",
    "       \n",
    "        accuracy = knn_ht.score(X_test,Y_test)\n",
    "        f1 = f1_score(Y_test,knn_ht.predict(X_test),average='weighted')\n",
    "        roc = roc_auc_score(Y_test, Y_pred_prob_ht)       \n",
    "        \n",
    "        dict_values = {'neighbors': neighbor_count, 'weight': weight_metric,'accuracy':accuracy,'F1' : f1, 'ROC_area':roc}\n",
    "        row_to_add = pd.Series(dict_values)\n",
    "        \n",
    "        df_knn = df_knn.append(row_to_add, ignore_index=True)\n",
    "\n",
    "df_knn.set_index(['neighbors','weight'], inplace=True)\n",
    "df_knn"
   ]
  },
  {
   "cell_type": "code",
   "execution_count": 33,
   "metadata": {},
   "outputs": [
    {
     "data": {
      "image/png": "[encoded data removed]",
      "text/plain": [
       "<Figure size 720x324 with 1 Axes>"
      ]
     },
     "metadata": {
      "needs_background": "light"
     },
     "output_type": "display_data"
    }
   ],
   "source": [
    "df_knn.plot(figsize = (10,4.5));"
   ]
  },
  {
   "cell_type": "markdown",
   "metadata": {},
   "source": [
    "### Model Evaluation - Confusion Matrix"
   ]
  },
  {
   "cell_type": "code",
   "execution_count": 34,
   "metadata": {},
   "outputs": [
    {
     "data": {
      "text/plain": [
       "KNeighborsClassifier(n_neighbors=9)"
      ]
     },
     "execution_count": 34,
     "metadata": {},
     "output_type": "execute_result"
    }
   ],
   "source": [
    "knn = KNeighborsClassifier(n_neighbors=9, weights='uniform')\n",
    "knn.fit(X_train, Y_train)"
   ]
  },
  {
   "cell_type": "code",
   "execution_count": 35,
   "metadata": {},
   "outputs": [
    {
     "name": "stdout",
     "output_type": "stream",
     "text": [
      "Test Classification accuracy: 0.7471089470480827\n",
      "\n",
      "\n",
      "Test Confusion matrix: \n",
      "[[1418  405]\n",
      " [ 426 1037]]\n",
      "\n",
      "\n",
      "Test Classification Report:\n",
      "               precision    recall  f1-score   support\n",
      "\n",
      "           0       0.77      0.78      0.77      1823\n",
      "           1       0.72      0.71      0.71      1463\n",
      "\n",
      "    accuracy                           0.75      3286\n",
      "   macro avg       0.74      0.74      0.74      3286\n",
      "weighted avg       0.75      0.75      0.75      3286\n",
      "\n"
     ]
    }
   ],
   "source": [
    "Y_test_predicted = knn.predict(X_test)\n",
    "conf_matrix_knn = confusion_matrix(Y_test, Y_test_predicted)\n",
    "print(\"Test Classification accuracy:\", knn.score(X_test,Y_test))\n",
    "print(\"\\n\")\n",
    "print (\"Test Confusion matrix: \\n\" + str(conf_matrix_knn))\n",
    "print(\"\\n\")\n",
    "print(\"Test Classification Report:\\n\",classification_report(Y_test, Y_test_predicted))"
   ]
  },
  {
   "cell_type": "code",
   "execution_count": 36,
   "metadata": {},
   "outputs": [],
   "source": [
    "from sklearn.metrics import plot_confusion_matrix"
   ]
  },
  {
   "cell_type": "code",
   "execution_count": 37,
   "metadata": {},
   "outputs": [
    {
     "name": "stdout",
     "output_type": "stream",
     "text": [
      "[[1418  405]\n",
      " [ 426 1037]]\n"
     ]
    },
    {
     "data": {
      "image/png": "[encoded data removed]",
      "text/plain": [
       "<Figure size 432x288 with 2 Axes>"
      ]
     },
     "metadata": {
      "needs_background": "light"
     },
     "output_type": "display_data"
    }
   ],
   "source": [
    "disp = plot_confusion_matrix(knn, X_test, Y_test,\n",
    "                                 display_labels=['Asia', 'Western_Countries'],\n",
    "                                 cmap=plt.cm.RdPu,\n",
    "                                 normalize=None)\n",
    "print(disp.confusion_matrix)"
   ]
  },
  {
   "cell_type": "markdown",
   "metadata": {},
   "source": [
    "### Test the model on validation set"
   ]
  },
  {
   "cell_type": "code",
   "execution_count": 38,
   "metadata": {},
   "outputs": [
    {
     "name": "stdout",
     "output_type": "stream",
     "text": [
      "Validation Classification accuracy: 0.7370663420572124\n",
      "\n",
      "\n",
      "Validation Confusion Matrix:\n",
      "[[1451  439]\n",
      " [ 425  971]]\n",
      "\n",
      "\n",
      "Validation Classification Report:\n",
      "               precision    recall  f1-score   support\n",
      "\n",
      "           0       0.77      0.77      0.77      1890\n",
      "           1       0.69      0.70      0.69      1396\n",
      "\n",
      "    accuracy                           0.74      3286\n",
      "   macro avg       0.73      0.73      0.73      3286\n",
      "weighted avg       0.74      0.74      0.74      3286\n",
      "\n"
     ]
    }
   ],
   "source": [
    "Y_val_predicted=knn.predict(X_val)\n",
    "conf_matrix_knn = confusion_matrix(Y_val,Y_val_predicted)\n",
    "print('Validation Classification accuracy:', knn.score(X_val,Y_val))\n",
    "print('\\n')\n",
    "print('Validation Confusion Matrix:\\n'+ str(confusion_matrix(Y_val, Y_val_predicted)))\n",
    "print('\\n')\n",
    "print('Validation Classification Report:\\n', classification_report(Y_val, Y_val_predicted))"
   ]
  },
  {
   "cell_type": "markdown",
   "metadata": {},
   "source": [
    "### <mark>Result/Comment:\n",
    "    First, we train the model with various hyper parameters. And then, we found that When neighbors = 9, the model can have the highest accuracy and roc area. \n",
    "    Then, we put the testing data set into this model, and get the the accuracy about 74.7%, which is not bad.\n",
    "    Finally, we  test the model on validation set and get the accuracy equaling to 0.735, which is same as the test classification accuracy."
   ]
  },
  {
   "cell_type": "markdown",
   "metadata": {},
   "source": [
    "<mark><font color='hotpink' size=7 face=雅黑>2.With Cross Validation<font><mark>\n",
    "    \n",
    "    To avoid the risking of overfitting on the test set, we can use the cross validation to examine."
   ]
  },
  {
   "cell_type": "markdown",
   "metadata": {},
   "source": [
    "### Creating Training and Test Datasets"
   ]
  },
  {
   "cell_type": "code",
   "execution_count": 39,
   "metadata": {},
   "outputs": [
    {
     "name": "stdout",
     "output_type": "stream",
     "text": [
      "(13142, 19) (13142,)\n",
      "(3286, 19) (3286,)\n"
     ]
    }
   ],
   "source": [
    "X_train, X_test, Y_train, Y_test = train_test_split(X, Y, test_size=0.2, random_state=random_state)\n",
    "print(X_train.shape, Y_train.shape)\n",
    "print(X_test.shape, Y_test.shape)"
   ]
  },
  {
   "cell_type": "markdown",
   "metadata": {},
   "source": [
    "### Feature Selection"
   ]
  },
  {
   "cell_type": "code",
   "execution_count": 40,
   "metadata": {},
   "outputs": [],
   "source": [
    "from sklearn.feature_selection import SelectKBest, chi2"
   ]
  },
  {
   "cell_type": "code",
   "execution_count": 41,
   "metadata": {},
   "outputs": [],
   "source": [
    "ch2 = SelectKBest(chi2, k=10)\n",
    "X_train = ch2.fit_transform(X_train, Y_train)\n",
    "X_test = ch2.transform(X_test)"
   ]
  },
  {
   "cell_type": "code",
   "execution_count": 42,
   "metadata": {},
   "outputs": [
    {
     "name": "stdout",
     "output_type": "stream",
     "text": [
      "(13142, 10)\n",
      "(3286, 10)\n"
     ]
    }
   ],
   "source": [
    "print(X_train.shape)\n",
    "print(X_test.shape)"
   ]
  },
  {
   "cell_type": "code",
   "execution_count": 43,
   "metadata": {},
   "outputs": [
    {
     "data": {
      "text/plain": [
       "Index(['V45', 'V47', 'V50', 'V52', 'V53', 'V97', 'V120', 'V181', 'V203',\n",
       "       'V207'],\n",
       "      dtype='object')"
      ]
     },
     "execution_count": 43,
     "metadata": {},
     "output_type": "execute_result"
    }
   ],
   "source": [
    "cols = ch2.get_support(indices=True)\n",
    "df.iloc[:,cols].columns"
   ]
  },
  {
   "cell_type": "markdown",
   "metadata": {},
   "source": [
    "### Feature Scaling"
   ]
  },
  {
   "cell_type": "code",
   "execution_count": 44,
   "metadata": {},
   "outputs": [],
   "source": [
    "from sklearn.preprocessing import StandardScaler\n",
    "\n",
    "sc = StandardScaler()\n",
    "X_train = sc.fit_transform(X_train)\n",
    "X_test = sc.transform(X_test)"
   ]
  },
  {
   "cell_type": "markdown",
   "metadata": {},
   "source": [
    "### Tuning Hyperparameters"
   ]
  },
  {
   "cell_type": "code",
   "execution_count": 45,
   "metadata": {},
   "outputs": [
    {
     "data": {
      "text/html": [
       "<div>\n",
       "<style scoped>\n",
       "    .dataframe tbody tr th:only-of-type {\n",
       "        vertical-align: middle;\n",
       "    }\n",
       "\n",
       "    .dataframe tbody tr th {\n",
       "        vertical-align: top;\n",
       "    }\n",
       "\n",
       "    .dataframe thead th {\n",
       "        text-align: right;\n",
       "    }\n",
       "</style>\n",
       "<table border=\"1\" class=\"dataframe\">\n",
       "  <thead>\n",
       "    <tr style=\"text-align: right;\">\n",
       "      <th></th>\n",
       "      <th></th>\n",
       "      <th>accuracy</th>\n",
       "      <th>F1</th>\n",
       "      <th>ROC_area</th>\n",
       "    </tr>\n",
       "    <tr>\n",
       "      <th>neighbors</th>\n",
       "      <th>weight</th>\n",
       "      <th></th>\n",
       "      <th></th>\n",
       "      <th></th>\n",
       "    </tr>\n",
       "  </thead>\n",
       "  <tbody>\n",
       "    <tr>\n",
       "      <th rowspan=\"2\" valign=\"top\">1</th>\n",
       "      <th>uniform</th>\n",
       "      <td>0.688375</td>\n",
       "      <td>0.688311</td>\n",
       "      <td>0.684387</td>\n",
       "    </tr>\n",
       "    <tr>\n",
       "      <th>distance</th>\n",
       "      <td>0.688375</td>\n",
       "      <td>0.688311</td>\n",
       "      <td>0.684387</td>\n",
       "    </tr>\n",
       "    <tr>\n",
       "      <th rowspan=\"2\" valign=\"top\">2</th>\n",
       "      <th>uniform</th>\n",
       "      <td>0.687766</td>\n",
       "      <td>0.673140</td>\n",
       "      <td>0.739426</td>\n",
       "    </tr>\n",
       "    <tr>\n",
       "      <th>distance</th>\n",
       "      <td>0.689897</td>\n",
       "      <td>0.689118</td>\n",
       "      <td>0.736946</td>\n",
       "    </tr>\n",
       "    <tr>\n",
       "      <th rowspan=\"2\" valign=\"top\">3</th>\n",
       "      <th>uniform</th>\n",
       "      <td>0.724589</td>\n",
       "      <td>0.724444</td>\n",
       "      <td>0.766484</td>\n",
       "    </tr>\n",
       "    <tr>\n",
       "      <th>distance</th>\n",
       "      <td>0.716981</td>\n",
       "      <td>0.716779</td>\n",
       "      <td>0.758874</td>\n",
       "    </tr>\n",
       "    <tr>\n",
       "      <th rowspan=\"2\" valign=\"top\">4</th>\n",
       "      <th>uniform</th>\n",
       "      <td>0.723372</td>\n",
       "      <td>0.717739</td>\n",
       "      <td>0.785050</td>\n",
       "    </tr>\n",
       "    <tr>\n",
       "      <th>distance</th>\n",
       "      <td>0.721850</td>\n",
       "      <td>0.721500</td>\n",
       "      <td>0.774325</td>\n",
       "    </tr>\n",
       "    <tr>\n",
       "      <th rowspan=\"2\" valign=\"top\">5</th>\n",
       "      <th>uniform</th>\n",
       "      <td>0.736458</td>\n",
       "      <td>0.736147</td>\n",
       "      <td>0.797957</td>\n",
       "    </tr>\n",
       "    <tr>\n",
       "      <th>distance</th>\n",
       "      <td>0.726719</td>\n",
       "      <td>0.726375</td>\n",
       "      <td>0.783688</td>\n",
       "    </tr>\n",
       "    <tr>\n",
       "      <th rowspan=\"2\" valign=\"top\">6</th>\n",
       "      <th>uniform</th>\n",
       "      <td>0.729763</td>\n",
       "      <td>0.726339</td>\n",
       "      <td>0.805985</td>\n",
       "    </tr>\n",
       "    <tr>\n",
       "      <th>distance</th>\n",
       "      <td>0.729763</td>\n",
       "      <td>0.729444</td>\n",
       "      <td>0.788452</td>\n",
       "    </tr>\n",
       "    <tr>\n",
       "      <th rowspan=\"2\" valign=\"top\">7</th>\n",
       "      <th>uniform</th>\n",
       "      <td>0.744674</td>\n",
       "      <td>0.744613</td>\n",
       "      <td>0.813670</td>\n",
       "    </tr>\n",
       "    <tr>\n",
       "      <th>distance</th>\n",
       "      <td>0.734327</td>\n",
       "      <td>0.734148</td>\n",
       "      <td>0.794312</td>\n",
       "    </tr>\n",
       "    <tr>\n",
       "      <th rowspan=\"2\" valign=\"top\">8</th>\n",
       "      <th>uniform</th>\n",
       "      <td>0.743761</td>\n",
       "      <td>0.741319</td>\n",
       "      <td>0.817614</td>\n",
       "    </tr>\n",
       "    <tr>\n",
       "      <th>distance</th>\n",
       "      <td>0.738284</td>\n",
       "      <td>0.738155</td>\n",
       "      <td>0.797695</td>\n",
       "    </tr>\n",
       "    <tr>\n",
       "      <th rowspan=\"2\" valign=\"top\">9</th>\n",
       "      <th>uniform</th>\n",
       "      <td>0.748631</td>\n",
       "      <td>0.748681</td>\n",
       "      <td>0.819129</td>\n",
       "    </tr>\n",
       "    <tr>\n",
       "      <th>distance</th>\n",
       "      <td>0.737979</td>\n",
       "      <td>0.738006</td>\n",
       "      <td>0.798138</td>\n",
       "    </tr>\n",
       "  </tbody>\n",
       "</table>\n",
       "</div>"
      ],
      "text/plain": [
       "                    accuracy        F1  ROC_area\n",
       "neighbors weight                                \n",
       "1         uniform   0.688375  0.688311  0.684387\n",
       "          distance  0.688375  0.688311  0.684387\n",
       "2         uniform   0.687766  0.673140  0.739426\n",
       "          distance  0.689897  0.689118  0.736946\n",
       "3         uniform   0.724589  0.724444  0.766484\n",
       "          distance  0.716981  0.716779  0.758874\n",
       "4         uniform   0.723372  0.717739  0.785050\n",
       "          distance  0.721850  0.721500  0.774325\n",
       "5         uniform   0.736458  0.736147  0.797957\n",
       "          distance  0.726719  0.726375  0.783688\n",
       "6         uniform   0.729763  0.726339  0.805985\n",
       "          distance  0.729763  0.729444  0.788452\n",
       "7         uniform   0.744674  0.744613  0.813670\n",
       "          distance  0.734327  0.734148  0.794312\n",
       "8         uniform   0.743761  0.741319  0.817614\n",
       "          distance  0.738284  0.738155  0.797695\n",
       "9         uniform   0.748631  0.748681  0.819129\n",
       "          distance  0.737979  0.738006  0.798138"
      ]
     },
     "execution_count": 45,
     "metadata": {},
     "output_type": "execute_result"
    }
   ],
   "source": [
    "df_knn = pd.DataFrame(columns= ['neighbors','weight', 'accuracy', 'F1', 'ROC_area'])\n",
    "\n",
    "for neighbor_count in range (1,10):\n",
    "    for weight_metric in ['uniform', 'distance']:    \n",
    "        knn_ht = KNeighborsClassifier(n_neighbors=neighbor_count, weights=weight_metric) # initialize a KNN classifier\n",
    "        knn_ht.fit(X_train, Y_train)\n",
    "\n",
    "        Y_pred_prob_ht = knn_ht.predict_proba(X_test)[:, 1]\n",
    "       \n",
    "        accuracy = knn_ht.score(X_test,Y_test)\n",
    "        f1 = f1_score(Y_test,knn_ht.predict(X_test),average='weighted')\n",
    "        roc = roc_auc_score(Y_test, Y_pred_prob_ht)       \n",
    "        \n",
    "        dict_values = {'neighbors': neighbor_count, 'weight': weight_metric,'accuracy':accuracy,'F1' : f1, 'ROC_area':roc}\n",
    "        row_to_add = pd.Series(dict_values)\n",
    "        \n",
    "        df_knn = df_knn.append(row_to_add, ignore_index=True)\n",
    "\n",
    "df_knn.set_index(['neighbors','weight'], inplace=True)\n",
    "df_knn"
   ]
  },
  {
   "cell_type": "code",
   "execution_count": 46,
   "metadata": {},
   "outputs": [
    {
     "data": {
      "image/png": "[encoded data removed]",
      "text/plain": [
       "<Figure size 720x324 with 1 Axes>"
      ]
     },
     "metadata": {
      "needs_background": "light"
     },
     "output_type": "display_data"
    }
   ],
   "source": [
    "df_knn.plot(figsize = (10,4.5));"
   ]
  },
  {
   "cell_type": "code",
   "execution_count": 47,
   "metadata": {},
   "outputs": [],
   "source": [
    "from sklearn.model_selection import GridSearchCV"
   ]
  },
  {
   "cell_type": "code",
   "execution_count": 48,
   "metadata": {},
   "outputs": [],
   "source": [
    "k_range = list(range(1, 10))\n",
    "weight_options = ['uniform', 'distance']"
   ]
  },
  {
   "cell_type": "code",
   "execution_count": 49,
   "metadata": {},
   "outputs": [
    {
     "name": "stdout",
     "output_type": "stream",
     "text": [
      "{'n_neighbors': [1, 2, 3, 4, 5, 6, 7, 8, 9], 'weights': ['uniform', 'distance']}\n"
     ]
    }
   ],
   "source": [
    "param_grid = dict(n_neighbors=k_range, weights=weight_options)\n",
    "print(param_grid)"
   ]
  },
  {
   "cell_type": "code",
   "execution_count": 50,
   "metadata": {},
   "outputs": [
    {
     "data": {
      "text/plain": [
       "GridSearchCV(cv=5, estimator=KNeighborsClassifier(n_neighbors=9),\n",
       "             param_grid={'n_neighbors': [1, 2, 3, 4, 5, 6, 7, 8, 9],\n",
       "                         'weights': ['uniform', 'distance']},\n",
       "             scoring='accuracy')"
      ]
     },
     "execution_count": 50,
     "metadata": {},
     "output_type": "execute_result"
    }
   ],
   "source": [
    "grid = GridSearchCV(knn, param_grid, cv=5, scoring='accuracy')\n",
    "grid.fit(X, Y)"
   ]
  },
  {
   "cell_type": "code",
   "execution_count": 51,
   "metadata": {},
   "outputs": [
    {
     "name": "stdout",
     "output_type": "stream",
     "text": [
      "0.6870014294303308\n",
      "{'n_neighbors': 9, 'weights': 'uniform'}\n"
     ]
    }
   ],
   "source": [
    "print(grid.best_score_)\n",
    "print(grid.best_params_)"
   ]
  },
  {
   "cell_type": "code",
   "execution_count": 52,
   "metadata": {},
   "outputs": [
    {
     "data": {
      "text/plain": [
       "GridSearchCV(cv=5, estimator=KNeighborsClassifier(n_neighbors=9),\n",
       "             param_grid={'n_neighbors': [1, 2, 3, 4, 5, 6, 7, 8, 9],\n",
       "                         'weights': ['uniform', 'distance']},\n",
       "             scoring='f1_macro')"
      ]
     },
     "execution_count": 52,
     "metadata": {},
     "output_type": "execute_result"
    }
   ],
   "source": [
    "grid = GridSearchCV(knn, param_grid, cv=5, scoring='f1_macro')\n",
    "grid.fit(X, Y)"
   ]
  },
  {
   "cell_type": "code",
   "execution_count": 53,
   "metadata": {},
   "outputs": [
    {
     "name": "stdout",
     "output_type": "stream",
     "text": [
      "0.6820130908576367\n",
      "{'n_neighbors': 9, 'weights': 'uniform'}\n"
     ]
    }
   ],
   "source": [
    "print(grid.best_score_)\n",
    "print(grid.best_params_)"
   ]
  },
  {
   "cell_type": "code",
   "execution_count": 54,
   "metadata": {},
   "outputs": [
    {
     "data": {
      "text/plain": [
       "GridSearchCV(cv=5, estimator=KNeighborsClassifier(n_neighbors=9),\n",
       "             param_grid={'n_neighbors': [1, 2, 3, 4, 5, 6, 7, 8, 9],\n",
       "                         'weights': ['uniform', 'distance']},\n",
       "             scoring='roc_auc')"
      ]
     },
     "execution_count": 54,
     "metadata": {},
     "output_type": "execute_result"
    }
   ],
   "source": [
    "grid = GridSearchCV(knn, param_grid, cv=5, scoring='roc_auc')\n",
    "grid.fit(X, Y)"
   ]
  },
  {
   "cell_type": "code",
   "execution_count": 55,
   "metadata": {},
   "outputs": [
    {
     "name": "stdout",
     "output_type": "stream",
     "text": [
      "0.7536564530579201\n",
      "{'n_neighbors': 9, 'weights': 'distance'}\n"
     ]
    }
   ],
   "source": [
    "print(grid.best_score_)\n",
    "print(grid.best_params_)"
   ]
  },
  {
   "cell_type": "markdown",
   "metadata": {},
   "source": [
    "###  Model Evaluation"
   ]
  },
  {
   "cell_type": "code",
   "execution_count": 56,
   "metadata": {},
   "outputs": [
    {
     "data": {
      "text/plain": [
       "KNeighborsClassifier(n_neighbors=9)"
      ]
     },
     "execution_count": 56,
     "metadata": {},
     "output_type": "execute_result"
    }
   ],
   "source": [
    "knn = KNeighborsClassifier(n_neighbors=9, weights='uniform')\n",
    "knn.fit(X_train, Y_train)"
   ]
  },
  {
   "cell_type": "code",
   "execution_count": 57,
   "metadata": {},
   "outputs": [
    {
     "data": {
      "text/plain": [
       "array([0.72796353, 0.73668189, 0.72298326, 0.72146119, 0.74581431])"
      ]
     },
     "execution_count": 57,
     "metadata": {},
     "output_type": "execute_result"
    }
   ],
   "source": [
    "scores_accuracy =  cross_val_score(knn, X_test, Y_test, cv=5, scoring = 'accuracy')\n",
    "scores_accuracy"
   ]
  },
  {
   "cell_type": "code",
   "execution_count": 58,
   "metadata": {},
   "outputs": [
    {
     "data": {
      "text/plain": [
       "0.7309808330210545"
      ]
     },
     "execution_count": 58,
     "metadata": {},
     "output_type": "execute_result"
    }
   ],
   "source": [
    "scores_accuracy.mean()"
   ]
  },
  {
   "cell_type": "code",
   "execution_count": 59,
   "metadata": {},
   "outputs": [
    {
     "data": {
      "text/plain": [
       "array([0.72618707, 0.73461363, 0.71600323, 0.71844506, 0.74367654])"
      ]
     },
     "execution_count": 59,
     "metadata": {},
     "output_type": "execute_result"
    }
   ],
   "source": [
    "scores_f1_macro =  cross_val_score(knn, X_test, Y_test, cv=5, scoring = 'f1_macro')\n",
    "scores_f1_macro"
   ]
  },
  {
   "cell_type": "code",
   "execution_count": 60,
   "metadata": {},
   "outputs": [
    {
     "data": {
      "text/plain": [
       "0.7277851066516503"
      ]
     },
     "execution_count": 60,
     "metadata": {},
     "output_type": "execute_result"
    }
   ],
   "source": [
    "scores_f1_macro.mean()"
   ]
  },
  {
   "cell_type": "code",
   "execution_count": 61,
   "metadata": {},
   "outputs": [
    {
     "data": {
      "text/plain": [
       "['fit_time',\n",
       " 'score_time',\n",
       " 'test_f1_macro',\n",
       " 'test_precision_macro',\n",
       " 'test_recall_macro']"
      ]
     },
     "execution_count": 61,
     "metadata": {},
     "output_type": "execute_result"
    }
   ],
   "source": [
    "metrics = ['f1_macro', 'precision_macro', 'recall_macro', ]\n",
    "scores_multiple = cross_validate(knn, X_test, Y_test, cv=5, scoring = metrics)\n",
    "sorted(scores_multiple.keys())  "
   ]
  },
  {
   "cell_type": "code",
   "execution_count": 62,
   "metadata": {},
   "outputs": [
    {
     "name": "stdout",
     "output_type": "stream",
     "text": [
      "Avg. Precision: 0.7283921458693774\n",
      "Avg. Recall: 0.7283035672541962\n",
      "Avg. f1: 0.7277851066516503\n"
     ]
    }
   ],
   "source": [
    "print('Avg. Precision:', scores_multiple['test_precision_macro'].mean())   \n",
    "print('Avg. Recall:', scores_multiple['test_recall_macro'].mean())    \n",
    "print('Avg. f1:', scores_multiple['test_f1_macro'].mean())   "
   ]
  },
  {
   "cell_type": "code",
   "execution_count": 63,
   "metadata": {},
   "outputs": [
    {
     "name": "stdout",
     "output_type": "stream",
     "text": [
      "Test Classification accuracy: 0.7486305538648813\n",
      "\n",
      "\n",
      "Test Confusion matrix: \n",
      "[[1407  416]\n",
      " [ 410 1053]]\n",
      "\n",
      "\n",
      "Test Classification Report:\n",
      "               precision    recall  f1-score   support\n",
      "\n",
      "           0       0.77      0.77      0.77      1823\n",
      "           1       0.72      0.72      0.72      1463\n",
      "\n",
      "    accuracy                           0.75      3286\n",
      "   macro avg       0.75      0.75      0.75      3286\n",
      "weighted avg       0.75      0.75      0.75      3286\n",
      "\n"
     ]
    }
   ],
   "source": [
    "Y_test_predicted = knn.predict(X_test)\n",
    "conf_matrix_knn = confusion_matrix(Y_test, Y_test_predicted)\n",
    "print(\"Test Classification accuracy:\", knn.score(X_test,Y_test))\n",
    "print(\"\\n\")\n",
    "print (\"Test Confusion matrix: \\n\" + str(conf_matrix_knn))\n",
    "print(\"\\n\")\n",
    "print(\"Test Classification Report:\\n\",classification_report(Y_test, Y_test_predicted))"
   ]
  },
  {
   "cell_type": "markdown",
   "metadata": {},
   "source": [
    "<mark><font color='hotpink' size=7 face=雅黑> Classification Trees<font><mark>"
   ]
  },
  {
   "cell_type": "code",
   "execution_count": 64,
   "metadata": {},
   "outputs": [],
   "source": [
    "import pandas as pd\n",
    "import numpy as np\n",
    "import graphviz\n",
    "from matplotlib import pyplot as plt\n",
    "\n",
    "from sklearn import datasets\n",
    "from sklearn.model_selection import train_test_split\n",
    "from sklearn.tree import DecisionTreeRegressor, DecisionTreeClassifier, export_graphviz\n",
    "from sklearn.ensemble import BaggingClassifier, RandomForestClassifier, BaggingRegressor, RandomForestRegressor, GradientBoostingRegressor\n",
    "from sklearn.metrics import confusion_matrix, classification_report, mean_squared_error\n",
    "pd.set_option('display.notebook_repr_html', True)"
   ]
  },
  {
   "cell_type": "code",
   "execution_count": 65,
   "metadata": {},
   "outputs": [],
   "source": [
    "def print_tree(d_tree, f_names, c_names=None):\n",
    "    dot_data = tree.export_graphviz(d_tree, out_file=None, feature_names=f_names, class_names=c_names, \n",
    "                                    filled=True, rounded=True, special_characters=True)  \n",
    "    graph = graphviz.Source(dot_data)  \n",
    "    return graph "
   ]
  },
  {
   "cell_type": "code",
   "execution_count": 66,
   "metadata": {},
   "outputs": [],
   "source": [
    "from sklearn.datasets import load_iris\n",
    "from sklearn import tree"
   ]
  },
  {
   "cell_type": "code",
   "execution_count": 67,
   "metadata": {},
   "outputs": [
    {
     "data": {
      "text/html": [
       "<div>\n",
       "<style scoped>\n",
       "    .dataframe tbody tr th:only-of-type {\n",
       "        vertical-align: middle;\n",
       "    }\n",
       "\n",
       "    .dataframe tbody tr th {\n",
       "        vertical-align: top;\n",
       "    }\n",
       "\n",
       "    .dataframe thead th {\n",
       "        text-align: right;\n",
       "    }\n",
       "</style>\n",
       "<table border=\"1\" class=\"dataframe\">\n",
       "  <thead>\n",
       "    <tr style=\"text-align: right;\">\n",
       "      <th></th>\n",
       "      <th>V10</th>\n",
       "      <th>V23</th>\n",
       "      <th>V45</th>\n",
       "      <th>V47</th>\n",
       "      <th>V50</th>\n",
       "      <th>V52</th>\n",
       "      <th>V53</th>\n",
       "      <th>V67</th>\n",
       "      <th>V70</th>\n",
       "      <th>V71</th>\n",
       "      <th>V97</th>\n",
       "      <th>V120</th>\n",
       "      <th>V143</th>\n",
       "      <th>V163</th>\n",
       "      <th>V167</th>\n",
       "      <th>V172</th>\n",
       "      <th>V181</th>\n",
       "      <th>V203</th>\n",
       "      <th>V207</th>\n",
       "      <th>Outcome</th>\n",
       "    </tr>\n",
       "  </thead>\n",
       "  <tbody>\n",
       "    <tr>\n",
       "      <th>3330</th>\n",
       "      <td>3</td>\n",
       "      <td>7</td>\n",
       "      <td>0</td>\n",
       "      <td>0</td>\n",
       "      <td>1</td>\n",
       "      <td>0</td>\n",
       "      <td>2</td>\n",
       "      <td>0</td>\n",
       "      <td>5</td>\n",
       "      <td>2</td>\n",
       "      <td>5</td>\n",
       "      <td>2</td>\n",
       "      <td>2</td>\n",
       "      <td>2</td>\n",
       "      <td>1</td>\n",
       "      <td>1</td>\n",
       "      <td>1</td>\n",
       "      <td>5</td>\n",
       "      <td>0</td>\n",
       "      <td>0</td>\n",
       "    </tr>\n",
       "    <tr>\n",
       "      <th>3331</th>\n",
       "      <td>2</td>\n",
       "      <td>7</td>\n",
       "      <td>0</td>\n",
       "      <td>0</td>\n",
       "      <td>1</td>\n",
       "      <td>0</td>\n",
       "      <td>0</td>\n",
       "      <td>2</td>\n",
       "      <td>5</td>\n",
       "      <td>1</td>\n",
       "      <td>9</td>\n",
       "      <td>1</td>\n",
       "      <td>3</td>\n",
       "      <td>3</td>\n",
       "      <td>0</td>\n",
       "      <td>0</td>\n",
       "      <td>0</td>\n",
       "      <td>9</td>\n",
       "      <td>1</td>\n",
       "      <td>0</td>\n",
       "    </tr>\n",
       "    <tr>\n",
       "      <th>3332</th>\n",
       "      <td>1</td>\n",
       "      <td>2</td>\n",
       "      <td>1</td>\n",
       "      <td>2</td>\n",
       "      <td>2</td>\n",
       "      <td>1</td>\n",
       "      <td>2</td>\n",
       "      <td>1</td>\n",
       "      <td>0</td>\n",
       "      <td>3</td>\n",
       "      <td>4</td>\n",
       "      <td>2</td>\n",
       "      <td>3</td>\n",
       "      <td>3</td>\n",
       "      <td>0</td>\n",
       "      <td>1</td>\n",
       "      <td>0</td>\n",
       "      <td>8</td>\n",
       "      <td>8</td>\n",
       "      <td>0</td>\n",
       "    </tr>\n",
       "    <tr>\n",
       "      <th>3333</th>\n",
       "      <td>2</td>\n",
       "      <td>7</td>\n",
       "      <td>0</td>\n",
       "      <td>2</td>\n",
       "      <td>1</td>\n",
       "      <td>1</td>\n",
       "      <td>1</td>\n",
       "      <td>2</td>\n",
       "      <td>4</td>\n",
       "      <td>2</td>\n",
       "      <td>5</td>\n",
       "      <td>0</td>\n",
       "      <td>2</td>\n",
       "      <td>1</td>\n",
       "      <td>1</td>\n",
       "      <td>0</td>\n",
       "      <td>3</td>\n",
       "      <td>9</td>\n",
       "      <td>6</td>\n",
       "      <td>0</td>\n",
       "    </tr>\n",
       "    <tr>\n",
       "      <th>3334</th>\n",
       "      <td>2</td>\n",
       "      <td>2</td>\n",
       "      <td>0</td>\n",
       "      <td>1</td>\n",
       "      <td>1</td>\n",
       "      <td>1</td>\n",
       "      <td>1</td>\n",
       "      <td>2</td>\n",
       "      <td>1</td>\n",
       "      <td>0</td>\n",
       "      <td>4</td>\n",
       "      <td>1</td>\n",
       "      <td>1</td>\n",
       "      <td>1</td>\n",
       "      <td>3</td>\n",
       "      <td>1</td>\n",
       "      <td>2</td>\n",
       "      <td>7</td>\n",
       "      <td>0</td>\n",
       "      <td>0</td>\n",
       "    </tr>\n",
       "  </tbody>\n",
       "</table>\n",
       "</div>"
      ],
      "text/plain": [
       "      V10  V23  V45  V47  V50  V52  V53  V67  V70  V71  V97  V120  V143  V163  \\\n",
       "3330    3    7    0    0    1    0    2    0    5    2    5     2     2     2   \n",
       "3331    2    7    0    0    1    0    0    2    5    1    9     1     3     3   \n",
       "3332    1    2    1    2    2    1    2    1    0    3    4     2     3     3   \n",
       "3333    2    7    0    2    1    1    1    2    4    2    5     0     2     1   \n",
       "3334    2    2    0    1    1    1    1    2    1    0    4     1     1     1   \n",
       "\n",
       "      V167  V172  V181  V203  V207  Outcome  \n",
       "3330     1     1     1     5     0        0  \n",
       "3331     0     0     0     9     1        0  \n",
       "3332     0     1     0     8     8        0  \n",
       "3333     1     0     3     9     6        0  \n",
       "3334     3     1     2     7     0        0  "
      ]
     },
     "execution_count": 67,
     "metadata": {},
     "output_type": "execute_result"
    }
   ],
   "source": [
    "df.head()"
   ]
  },
  {
   "cell_type": "code",
   "execution_count": 68,
   "metadata": {},
   "outputs": [
    {
     "data": {
      "text/plain": [
       "0    9316\n",
       "1    7112\n",
       "Name: Outcome, dtype: int64"
      ]
     },
     "execution_count": 68,
     "metadata": {},
     "output_type": "execute_result"
    }
   ],
   "source": [
    "df.Outcome.value_counts()"
   ]
  },
  {
   "cell_type": "code",
   "execution_count": 69,
   "metadata": {},
   "outputs": [
    {
     "data": {
      "text/html": [
       "<div>\n",
       "<style scoped>\n",
       "    .dataframe tbody tr th:only-of-type {\n",
       "        vertical-align: middle;\n",
       "    }\n",
       "\n",
       "    .dataframe tbody tr th {\n",
       "        vertical-align: top;\n",
       "    }\n",
       "\n",
       "    .dataframe thead th {\n",
       "        text-align: right;\n",
       "    }\n",
       "</style>\n",
       "<table border=\"1\" class=\"dataframe\">\n",
       "  <thead>\n",
       "    <tr style=\"text-align: right;\">\n",
       "      <th></th>\n",
       "      <th>V10</th>\n",
       "      <th>V23</th>\n",
       "      <th>V45</th>\n",
       "      <th>V47</th>\n",
       "      <th>V50</th>\n",
       "      <th>V52</th>\n",
       "      <th>V53</th>\n",
       "      <th>V67</th>\n",
       "      <th>V70</th>\n",
       "      <th>V71</th>\n",
       "      <th>V97</th>\n",
       "      <th>V120</th>\n",
       "      <th>V143</th>\n",
       "      <th>V163</th>\n",
       "      <th>V167</th>\n",
       "      <th>V172</th>\n",
       "      <th>V181</th>\n",
       "      <th>V203</th>\n",
       "      <th>V207</th>\n",
       "    </tr>\n",
       "  </thead>\n",
       "  <tbody>\n",
       "    <tr>\n",
       "      <th>3330</th>\n",
       "      <td>3</td>\n",
       "      <td>7</td>\n",
       "      <td>0</td>\n",
       "      <td>0</td>\n",
       "      <td>1</td>\n",
       "      <td>0</td>\n",
       "      <td>2</td>\n",
       "      <td>0</td>\n",
       "      <td>5</td>\n",
       "      <td>2</td>\n",
       "      <td>5</td>\n",
       "      <td>2</td>\n",
       "      <td>2</td>\n",
       "      <td>2</td>\n",
       "      <td>1</td>\n",
       "      <td>1</td>\n",
       "      <td>1</td>\n",
       "      <td>5</td>\n",
       "      <td>0</td>\n",
       "    </tr>\n",
       "    <tr>\n",
       "      <th>3331</th>\n",
       "      <td>2</td>\n",
       "      <td>7</td>\n",
       "      <td>0</td>\n",
       "      <td>0</td>\n",
       "      <td>1</td>\n",
       "      <td>0</td>\n",
       "      <td>0</td>\n",
       "      <td>2</td>\n",
       "      <td>5</td>\n",
       "      <td>1</td>\n",
       "      <td>9</td>\n",
       "      <td>1</td>\n",
       "      <td>3</td>\n",
       "      <td>3</td>\n",
       "      <td>0</td>\n",
       "      <td>0</td>\n",
       "      <td>0</td>\n",
       "      <td>9</td>\n",
       "      <td>1</td>\n",
       "    </tr>\n",
       "    <tr>\n",
       "      <th>3332</th>\n",
       "      <td>1</td>\n",
       "      <td>2</td>\n",
       "      <td>1</td>\n",
       "      <td>2</td>\n",
       "      <td>2</td>\n",
       "      <td>1</td>\n",
       "      <td>2</td>\n",
       "      <td>1</td>\n",
       "      <td>0</td>\n",
       "      <td>3</td>\n",
       "      <td>4</td>\n",
       "      <td>2</td>\n",
       "      <td>3</td>\n",
       "      <td>3</td>\n",
       "      <td>0</td>\n",
       "      <td>1</td>\n",
       "      <td>0</td>\n",
       "      <td>8</td>\n",
       "      <td>8</td>\n",
       "    </tr>\n",
       "    <tr>\n",
       "      <th>3333</th>\n",
       "      <td>2</td>\n",
       "      <td>7</td>\n",
       "      <td>0</td>\n",
       "      <td>2</td>\n",
       "      <td>1</td>\n",
       "      <td>1</td>\n",
       "      <td>1</td>\n",
       "      <td>2</td>\n",
       "      <td>4</td>\n",
       "      <td>2</td>\n",
       "      <td>5</td>\n",
       "      <td>0</td>\n",
       "      <td>2</td>\n",
       "      <td>1</td>\n",
       "      <td>1</td>\n",
       "      <td>0</td>\n",
       "      <td>3</td>\n",
       "      <td>9</td>\n",
       "      <td>6</td>\n",
       "    </tr>\n",
       "    <tr>\n",
       "      <th>3334</th>\n",
       "      <td>2</td>\n",
       "      <td>2</td>\n",
       "      <td>0</td>\n",
       "      <td>1</td>\n",
       "      <td>1</td>\n",
       "      <td>1</td>\n",
       "      <td>1</td>\n",
       "      <td>2</td>\n",
       "      <td>1</td>\n",
       "      <td>0</td>\n",
       "      <td>4</td>\n",
       "      <td>1</td>\n",
       "      <td>1</td>\n",
       "      <td>1</td>\n",
       "      <td>3</td>\n",
       "      <td>1</td>\n",
       "      <td>2</td>\n",
       "      <td>7</td>\n",
       "      <td>0</td>\n",
       "    </tr>\n",
       "  </tbody>\n",
       "</table>\n",
       "</div>"
      ],
      "text/plain": [
       "      V10  V23  V45  V47  V50  V52  V53  V67  V70  V71  V97  V120  V143  V163  \\\n",
       "3330    3    7    0    0    1    0    2    0    5    2    5     2     2     2   \n",
       "3331    2    7    0    0    1    0    0    2    5    1    9     1     3     3   \n",
       "3332    1    2    1    2    2    1    2    1    0    3    4     2     3     3   \n",
       "3333    2    7    0    2    1    1    1    2    4    2    5     0     2     1   \n",
       "3334    2    2    0    1    1    1    1    2    1    0    4     1     1     1   \n",
       "\n",
       "      V167  V172  V181  V203  V207  \n",
       "3330     1     1     1     5     0  \n",
       "3331     0     0     0     9     1  \n",
       "3332     0     1     0     8     8  \n",
       "3333     1     0     3     9     6  \n",
       "3334     3     1     2     7     0  "
      ]
     },
     "execution_count": 69,
     "metadata": {},
     "output_type": "execute_result"
    }
   ],
   "source": [
    "X1 = df.drop('Outcome', axis=1) #indepedent\n",
    "y1 = df.Outcome #outcome variable\n",
    "\n",
    "X1.head()"
   ]
  },
  {
   "cell_type": "markdown",
   "metadata": {},
   "source": [
    "### Train the data"
   ]
  },
  {
   "cell_type": "code",
   "execution_count": 70,
   "metadata": {},
   "outputs": [
    {
     "name": "stdout",
     "output_type": "stream",
     "text": [
      "8214\n",
      "8214\n"
     ]
    }
   ],
   "source": [
    "X_train, X_test, y_train, y_test = train_test_split(X1, y1, train_size=0.5, random_state=23)\n",
    "print(len(X_train))\n",
    "print(len(X_test))"
   ]
  },
  {
   "cell_type": "markdown",
   "metadata": {},
   "source": [
    "### Train the tree"
   ]
  },
  {
   "cell_type": "code",
   "execution_count": 71,
   "metadata": {},
   "outputs": [
    {
     "data": {
      "text/plain": [
       "DecisionTreeClassifier(max_depth=3, max_features=3, max_leaf_nodes=12,\n",
       "                       random_state=23)"
      ]
     },
     "execution_count": 71,
     "metadata": {},
     "output_type": "execute_result"
    }
   ],
   "source": [
    "clftree = DecisionTreeClassifier(max_depth=3, max_leaf_nodes=12, max_features=3, random_state=23)\n",
    "clftree.fit(X_train,y_train)"
   ]
  },
  {
   "cell_type": "code",
   "execution_count": 72,
   "metadata": {},
   "outputs": [
    {
     "data": {
      "image/svg+xml": [
       "<?xml version=\"1.0\" encoding=\"UTF-8\" standalone=\"no\"?>\r\n",
       "<!DOCTYPE svg PUBLIC \"-//W3C//DTD SVG 1.1//EN\"\r\n",
       " \"http://www.w3.org/Graphics/SVG/1.1/DTD/svg11.dtd\">\r\n",
       "<!-- Generated by graphviz version 2.47.0 (20210316.0004)\r\n",
       " -->\r\n",
       "<!-- Title: Tree Pages: 1 -->\r\n",
       "<svg width=\"1451pt\" height=\"433pt\"\r\n",
       " viewBox=\"0.00 0.00 1451.00 433.00\" xmlns=\"http://www.w3.org/2000/svg\" xmlns:xlink=\"http://www.w3.org/1999/xlink\">\r\n",
       "<g id=\"graph0\" class=\"graph\" transform=\"scale(1 1) rotate(0) translate(4 429)\">\r\n",
       "<title>Tree</title>\r\n",
       "<polygon fill=\"white\" stroke=\"transparent\" points=\"-4,4 -4,-429 1447,-429 1447,4 -4,4\"/>\r\n",
       "<!-- 0 -->\r\n",
       "<g id=\"node1\" class=\"node\">\r\n",
       "<title>0</title>\r\n",
       "<path fill=\"#f9e2d1\" stroke=\"black\" d=\"M839,-425C839,-425 678,-425 678,-425 672,-425 666,-419 666,-413 666,-413 666,-354 666,-354 666,-348 672,-342 678,-342 678,-342 839,-342 839,-342 845,-342 851,-348 851,-354 851,-354 851,-413 851,-413 851,-419 845,-425 839,-425\"/>\r\n",
       "<text text-anchor=\"start\" x=\"727.5\" y=\"-409.8\" font-family=\"Helvetica,sans-Serif\" font-size=\"14.00\">V50 ≤ 1.5</text>\r\n",
       "<text text-anchor=\"start\" x=\"721\" y=\"-394.8\" font-family=\"Helvetica,sans-Serif\" font-size=\"14.00\">gini = 0.491</text>\r\n",
       "<text text-anchor=\"start\" x=\"707\" y=\"-379.8\" font-family=\"Helvetica,sans-Serif\" font-size=\"14.00\">samples = 8214</text>\r\n",
       "<text text-anchor=\"start\" x=\"693.5\" y=\"-364.8\" font-family=\"Helvetica,sans-Serif\" font-size=\"14.00\">value = [4644, 3570]</text>\r\n",
       "<text text-anchor=\"start\" x=\"674\" y=\"-349.8\" font-family=\"Helvetica,sans-Serif\" font-size=\"14.00\">class = Western_countries</text>\r\n",
       "</g>\r\n",
       "<!-- 1 -->\r\n",
       "<g id=\"node2\" class=\"node\">\r\n",
       "<title>1</title>\r\n",
       "<path fill=\"#f4c9aa\" stroke=\"black\" d=\"M663,-306C663,-306 502,-306 502,-306 496,-306 490,-300 490,-294 490,-294 490,-235 490,-235 490,-229 496,-223 502,-223 502,-223 663,-223 663,-223 669,-223 675,-229 675,-235 675,-235 675,-294 675,-294 675,-300 669,-306 663,-306\"/>\r\n",
       "<text text-anchor=\"start\" x=\"547.5\" y=\"-290.8\" font-family=\"Helvetica,sans-Serif\" font-size=\"14.00\">V181 ≤ 1.5</text>\r\n",
       "<text text-anchor=\"start\" x=\"545\" y=\"-275.8\" font-family=\"Helvetica,sans-Serif\" font-size=\"14.00\">gini = 0.463</text>\r\n",
       "<text text-anchor=\"start\" x=\"531\" y=\"-260.8\" font-family=\"Helvetica,sans-Serif\" font-size=\"14.00\">samples = 5177</text>\r\n",
       "<text text-anchor=\"start\" x=\"517.5\" y=\"-245.8\" font-family=\"Helvetica,sans-Serif\" font-size=\"14.00\">value = [3297, 1880]</text>\r\n",
       "<text text-anchor=\"start\" x=\"498\" y=\"-230.8\" font-family=\"Helvetica,sans-Serif\" font-size=\"14.00\">class = Western_countries</text>\r\n",
       "</g>\r\n",
       "<!-- 0&#45;&gt;1 -->\r\n",
       "<g id=\"edge1\" class=\"edge\">\r\n",
       "<title>0&#45;&gt;1</title>\r\n",
       "<path fill=\"none\" stroke=\"black\" d=\"M697.44,-341.91C682.83,-332.2 667.13,-321.76 652.16,-311.81\"/>\r\n",
       "<polygon fill=\"black\" stroke=\"black\" points=\"653.72,-308.64 643.45,-306.02 649.84,-314.47 653.72,-308.64\"/>\r\n",
       "<text text-anchor=\"middle\" x=\"648.39\" y=\"-326.83\" font-family=\"Helvetica,sans-Serif\" font-size=\"14.00\">True</text>\r\n",
       "</g>\r\n",
       "<!-- 2 -->\r\n",
       "<g id=\"node9\" class=\"node\">\r\n",
       "<title>2</title>\r\n",
       "<path fill=\"#d7ebfa\" stroke=\"black\" d=\"M983.5,-306C983.5,-306 861.5,-306 861.5,-306 855.5,-306 849.5,-300 849.5,-294 849.5,-294 849.5,-235 849.5,-235 849.5,-229 855.5,-223 861.5,-223 861.5,-223 983.5,-223 983.5,-223 989.5,-223 995.5,-229 995.5,-235 995.5,-235 995.5,-294 995.5,-294 995.5,-300 989.5,-306 983.5,-306\"/>\r\n",
       "<text text-anchor=\"start\" x=\"887.5\" y=\"-290.8\" font-family=\"Helvetica,sans-Serif\" font-size=\"14.00\">V120 ≤ 1.5</text>\r\n",
       "<text text-anchor=\"start\" x=\"885\" y=\"-275.8\" font-family=\"Helvetica,sans-Serif\" font-size=\"14.00\">gini = 0.494</text>\r\n",
       "<text text-anchor=\"start\" x=\"871\" y=\"-260.8\" font-family=\"Helvetica,sans-Serif\" font-size=\"14.00\">samples = 3037</text>\r\n",
       "<text text-anchor=\"start\" x=\"857.5\" y=\"-245.8\" font-family=\"Helvetica,sans-Serif\" font-size=\"14.00\">value = [1347, 1690]</text>\r\n",
       "<text text-anchor=\"start\" x=\"884\" y=\"-230.8\" font-family=\"Helvetica,sans-Serif\" font-size=\"14.00\">class = Asia</text>\r\n",
       "</g>\r\n",
       "<!-- 0&#45;&gt;2 -->\r\n",
       "<g id=\"edge8\" class=\"edge\">\r\n",
       "<title>0&#45;&gt;2</title>\r\n",
       "<path fill=\"none\" stroke=\"black\" d=\"M815.4,-341.91C828.88,-332.29 843.37,-321.95 857.19,-312.09\"/>\r\n",
       "<polygon fill=\"black\" stroke=\"black\" points=\"859.59,-314.68 865.7,-306.02 855.53,-308.98 859.59,-314.68\"/>\r\n",
       "<text text-anchor=\"middle\" x=\"861.58\" y=\"-326.98\" font-family=\"Helvetica,sans-Serif\" font-size=\"14.00\">False</text>\r\n",
       "</g>\r\n",
       "<!-- 3 -->\r\n",
       "<g id=\"node3\" class=\"node\">\r\n",
       "<title>3</title>\r\n",
       "<path fill=\"#eca16b\" stroke=\"black\" d=\"M376,-187C376,-187 215,-187 215,-187 209,-187 203,-181 203,-175 203,-175 203,-116 203,-116 203,-110 209,-104 215,-104 215,-104 376,-104 376,-104 382,-104 388,-110 388,-116 388,-116 388,-175 388,-175 388,-181 382,-187 376,-187\"/>\r\n",
       "<text text-anchor=\"start\" x=\"264.5\" y=\"-171.8\" font-family=\"Helvetica,sans-Serif\" font-size=\"14.00\">V47 ≤ 0.5</text>\r\n",
       "<text text-anchor=\"start\" x=\"258\" y=\"-156.8\" font-family=\"Helvetica,sans-Serif\" font-size=\"14.00\">gini = 0.324</text>\r\n",
       "<text text-anchor=\"start\" x=\"244\" y=\"-141.8\" font-family=\"Helvetica,sans-Serif\" font-size=\"14.00\">samples = 2477</text>\r\n",
       "<text text-anchor=\"start\" x=\"234.5\" y=\"-126.8\" font-family=\"Helvetica,sans-Serif\" font-size=\"14.00\">value = [1974, 503]</text>\r\n",
       "<text text-anchor=\"start\" x=\"211\" y=\"-111.8\" font-family=\"Helvetica,sans-Serif\" font-size=\"14.00\">class = Western_countries</text>\r\n",
       "</g>\r\n",
       "<!-- 1&#45;&gt;3 -->\r\n",
       "<g id=\"edge2\" class=\"edge\">\r\n",
       "<title>1&#45;&gt;3</title>\r\n",
       "<path fill=\"none\" stroke=\"black\" d=\"M489.72,-225.68C460.46,-213.75 427.97,-200.5 398.07,-188.31\"/>\r\n",
       "<polygon fill=\"black\" stroke=\"black\" points=\"399.04,-184.93 388.46,-184.4 396.39,-191.41 399.04,-184.93\"/>\r\n",
       "</g>\r\n",
       "<!-- 4 -->\r\n",
       "<g id=\"node6\" class=\"node\">\r\n",
       "<title>4</title>\r\n",
       "<path fill=\"#f7fbfe\" stroke=\"black\" d=\"M643.5,-187C643.5,-187 521.5,-187 521.5,-187 515.5,-187 509.5,-181 509.5,-175 509.5,-175 509.5,-116 509.5,-116 509.5,-110 515.5,-104 521.5,-104 521.5,-104 643.5,-104 643.5,-104 649.5,-104 655.5,-110 655.5,-116 655.5,-116 655.5,-175 655.5,-175 655.5,-181 649.5,-187 643.5,-187\"/>\r\n",
       "<text text-anchor=\"start\" x=\"551.5\" y=\"-171.8\" font-family=\"Helvetica,sans-Serif\" font-size=\"14.00\">V45 ≤ 0.5</text>\r\n",
       "<text text-anchor=\"start\" x=\"553.5\" y=\"-156.8\" font-family=\"Helvetica,sans-Serif\" font-size=\"14.00\">gini = 0.5</text>\r\n",
       "<text text-anchor=\"start\" x=\"531\" y=\"-141.8\" font-family=\"Helvetica,sans-Serif\" font-size=\"14.00\">samples = 2700</text>\r\n",
       "<text text-anchor=\"start\" x=\"517.5\" y=\"-126.8\" font-family=\"Helvetica,sans-Serif\" font-size=\"14.00\">value = [1323, 1377]</text>\r\n",
       "<text text-anchor=\"start\" x=\"544\" y=\"-111.8\" font-family=\"Helvetica,sans-Serif\" font-size=\"14.00\">class = Asia</text>\r\n",
       "</g>\r\n",
       "<!-- 1&#45;&gt;4 -->\r\n",
       "<g id=\"edge5\" class=\"edge\">\r\n",
       "<title>1&#45;&gt;4</title>\r\n",
       "<path fill=\"none\" stroke=\"black\" d=\"M582.5,-222.91C582.5,-214.65 582.5,-205.86 582.5,-197.3\"/>\r\n",
       "<polygon fill=\"black\" stroke=\"black\" points=\"586,-197.02 582.5,-187.02 579,-197.02 586,-197.02\"/>\r\n",
       "</g>\r\n",
       "<!-- 11 -->\r\n",
       "<g id=\"node4\" class=\"node\">\r\n",
       "<title>11</title>\r\n",
       "<path fill=\"#ea985d\" stroke=\"black\" d=\"M173,-68C173,-68 12,-68 12,-68 6,-68 0,-62 0,-56 0,-56 0,-12 0,-12 0,-6 6,0 12,0 12,0 173,0 173,0 179,0 185,-6 185,-12 185,-12 185,-56 185,-56 185,-62 179,-68 173,-68\"/>\r\n",
       "<text text-anchor=\"start\" x=\"55\" y=\"-52.8\" font-family=\"Helvetica,sans-Serif\" font-size=\"14.00\">gini = 0.259</text>\r\n",
       "<text text-anchor=\"start\" x=\"41\" y=\"-37.8\" font-family=\"Helvetica,sans-Serif\" font-size=\"14.00\">samples = 1720</text>\r\n",
       "<text text-anchor=\"start\" x=\"31.5\" y=\"-22.8\" font-family=\"Helvetica,sans-Serif\" font-size=\"14.00\">value = [1457, 263]</text>\r\n",
       "<text text-anchor=\"start\" x=\"8\" y=\"-7.8\" font-family=\"Helvetica,sans-Serif\" font-size=\"14.00\">class = Western_countries</text>\r\n",
       "</g>\r\n",
       "<!-- 3&#45;&gt;11 -->\r\n",
       "<g id=\"edge3\" class=\"edge\">\r\n",
       "<title>3&#45;&gt;11</title>\r\n",
       "<path fill=\"none\" stroke=\"black\" d=\"M220.2,-103.88C201.39,-93.73 181.29,-82.89 162.73,-72.88\"/>\r\n",
       "<polygon fill=\"black\" stroke=\"black\" points=\"164.22,-69.71 153.76,-68.04 160.9,-75.87 164.22,-69.71\"/>\r\n",
       "</g>\r\n",
       "<!-- 12 -->\r\n",
       "<g id=\"node5\" class=\"node\">\r\n",
       "<title>12</title>\r\n",
       "<path fill=\"#f1bb95\" stroke=\"black\" d=\"M376,-68C376,-68 215,-68 215,-68 209,-68 203,-62 203,-56 203,-56 203,-12 203,-12 203,-6 209,0 215,0 215,0 376,0 376,0 382,0 388,-6 388,-12 388,-12 388,-56 388,-56 388,-62 382,-68 376,-68\"/>\r\n",
       "<text text-anchor=\"start\" x=\"258\" y=\"-52.8\" font-family=\"Helvetica,sans-Serif\" font-size=\"14.00\">gini = 0.433</text>\r\n",
       "<text text-anchor=\"start\" x=\"248\" y=\"-37.8\" font-family=\"Helvetica,sans-Serif\" font-size=\"14.00\">samples = 757</text>\r\n",
       "<text text-anchor=\"start\" x=\"238.5\" y=\"-22.8\" font-family=\"Helvetica,sans-Serif\" font-size=\"14.00\">value = [517, 240]</text>\r\n",
       "<text text-anchor=\"start\" x=\"211\" y=\"-7.8\" font-family=\"Helvetica,sans-Serif\" font-size=\"14.00\">class = Western_countries</text>\r\n",
       "</g>\r\n",
       "<!-- 3&#45;&gt;12 -->\r\n",
       "<g id=\"edge4\" class=\"edge\">\r\n",
       "<title>3&#45;&gt;12</title>\r\n",
       "<path fill=\"none\" stroke=\"black\" d=\"M295.5,-103.73C295.5,-95.52 295.5,-86.86 295.5,-78.56\"/>\r\n",
       "<polygon fill=\"black\" stroke=\"black\" points=\"299,-78.3 295.5,-68.3 292,-78.3 299,-78.3\"/>\r\n",
       "</g>\r\n",
       "<!-- 5 -->\r\n",
       "<g id=\"node7\" class=\"node\">\r\n",
       "<title>5</title>\r\n",
       "<path fill=\"#f2c19e\" stroke=\"black\" d=\"M579,-68C579,-68 418,-68 418,-68 412,-68 406,-62 406,-56 406,-56 406,-12 406,-12 406,-6 412,0 418,0 418,0 579,0 579,0 585,0 591,-6 591,-12 591,-12 591,-56 591,-56 591,-62 585,-68 579,-68\"/>\r\n",
       "<text text-anchor=\"start\" x=\"461\" y=\"-52.8\" font-family=\"Helvetica,sans-Serif\" font-size=\"14.00\">gini = 0.447</text>\r\n",
       "<text text-anchor=\"start\" x=\"447\" y=\"-37.8\" font-family=\"Helvetica,sans-Serif\" font-size=\"14.00\">samples = 1494</text>\r\n",
       "<text text-anchor=\"start\" x=\"441.5\" y=\"-22.8\" font-family=\"Helvetica,sans-Serif\" font-size=\"14.00\">value = [990, 504]</text>\r\n",
       "<text text-anchor=\"start\" x=\"414\" y=\"-7.8\" font-family=\"Helvetica,sans-Serif\" font-size=\"14.00\">class = Western_countries</text>\r\n",
       "</g>\r\n",
       "<!-- 4&#45;&gt;5 -->\r\n",
       "<g id=\"edge6\" class=\"edge\">\r\n",
       "<title>4&#45;&gt;5</title>\r\n",
       "<path fill=\"none\" stroke=\"black\" d=\"M551.22,-103.73C544.36,-94.79 537.1,-85.32 530.22,-76.36\"/>\r\n",
       "<polygon fill=\"black\" stroke=\"black\" points=\"532.91,-74.1 524.04,-68.3 527.35,-78.36 532.91,-74.1\"/>\r\n",
       "</g>\r\n",
       "<!-- 6 -->\r\n",
       "<g id=\"node8\" class=\"node\">\r\n",
       "<title>6</title>\r\n",
       "<path fill=\"#85c2ef\" stroke=\"black\" d=\"M727.5,-68C727.5,-68 621.5,-68 621.5,-68 615.5,-68 609.5,-62 609.5,-56 609.5,-56 609.5,-12 609.5,-12 609.5,-6 615.5,0 621.5,0 621.5,0 727.5,0 727.5,0 733.5,0 739.5,-6 739.5,-12 739.5,-12 739.5,-56 739.5,-56 739.5,-62 733.5,-68 727.5,-68\"/>\r\n",
       "<text text-anchor=\"start\" x=\"645.5\" y=\"-52.8\" font-family=\"Helvetica,sans-Serif\" font-size=\"14.00\">gini = 0.4</text>\r\n",
       "<text text-anchor=\"start\" x=\"623\" y=\"-37.8\" font-family=\"Helvetica,sans-Serif\" font-size=\"14.00\">samples = 1206</text>\r\n",
       "<text text-anchor=\"start\" x=\"617.5\" y=\"-22.8\" font-family=\"Helvetica,sans-Serif\" font-size=\"14.00\">value = [333, 873]</text>\r\n",
       "<text text-anchor=\"start\" x=\"636\" y=\"-7.8\" font-family=\"Helvetica,sans-Serif\" font-size=\"14.00\">class = Asia</text>\r\n",
       "</g>\r\n",
       "<!-- 4&#45;&gt;6 -->\r\n",
       "<g id=\"edge7\" class=\"edge\">\r\n",
       "<title>4&#45;&gt;6</title>\r\n",
       "<path fill=\"none\" stroke=\"black\" d=\"M616.76,-103.73C624.34,-94.7 632.39,-85.12 639.98,-76.08\"/>\r\n",
       "<polygon fill=\"black\" stroke=\"black\" points=\"642.77,-78.21 646.52,-68.3 637.41,-73.7 642.77,-78.21\"/>\r\n",
       "</g>\r\n",
       "<!-- 7 -->\r\n",
       "<g id=\"node10\" class=\"node\">\r\n",
       "<title>7</title>\r\n",
       "<path fill=\"#f9e4d5\" stroke=\"black\" d=\"M1003,-187C1003,-187 842,-187 842,-187 836,-187 830,-181 830,-175 830,-175 830,-116 830,-116 830,-110 836,-104 842,-104 842,-104 1003,-104 1003,-104 1009,-104 1015,-110 1015,-116 1015,-116 1015,-175 1015,-175 1015,-181 1009,-187 1003,-187\"/>\r\n",
       "<text text-anchor=\"start\" x=\"887.5\" y=\"-171.8\" font-family=\"Helvetica,sans-Serif\" font-size=\"14.00\">V167 ≤ 0.5</text>\r\n",
       "<text text-anchor=\"start\" x=\"885\" y=\"-156.8\" font-family=\"Helvetica,sans-Serif\" font-size=\"14.00\">gini = 0.493</text>\r\n",
       "<text text-anchor=\"start\" x=\"871\" y=\"-141.8\" font-family=\"Helvetica,sans-Serif\" font-size=\"14.00\">samples = 1403</text>\r\n",
       "<text text-anchor=\"start\" x=\"865.5\" y=\"-126.8\" font-family=\"Helvetica,sans-Serif\" font-size=\"14.00\">value = [785, 618]</text>\r\n",
       "<text text-anchor=\"start\" x=\"838\" y=\"-111.8\" font-family=\"Helvetica,sans-Serif\" font-size=\"14.00\">class = Western_countries</text>\r\n",
       "</g>\r\n",
       "<!-- 2&#45;&gt;7 -->\r\n",
       "<g id=\"edge9\" class=\"edge\">\r\n",
       "<title>2&#45;&gt;7</title>\r\n",
       "<path fill=\"none\" stroke=\"black\" d=\"M922.5,-222.91C922.5,-214.65 922.5,-205.86 922.5,-197.3\"/>\r\n",
       "<polygon fill=\"black\" stroke=\"black\" points=\"926,-197.02 922.5,-187.02 919,-197.02 926,-197.02\"/>\r\n",
       "</g>\r\n",
       "<!-- 8 -->\r\n",
       "<g id=\"node13\" class=\"node\">\r\n",
       "<title>8</title>\r\n",
       "<path fill=\"#a1d0f3\" stroke=\"black\" d=\"M1231.5,-187C1231.5,-187 1117.5,-187 1117.5,-187 1111.5,-187 1105.5,-181 1105.5,-175 1105.5,-175 1105.5,-116 1105.5,-116 1105.5,-110 1111.5,-104 1117.5,-104 1117.5,-104 1231.5,-104 1231.5,-104 1237.5,-104 1243.5,-110 1243.5,-116 1243.5,-116 1243.5,-175 1243.5,-175 1243.5,-181 1237.5,-187 1231.5,-187\"/>\r\n",
       "<text text-anchor=\"start\" x=\"1139.5\" y=\"-171.8\" font-family=\"Helvetica,sans-Serif\" font-size=\"14.00\">V203 ≤ 6.5</text>\r\n",
       "<text text-anchor=\"start\" x=\"1137\" y=\"-156.8\" font-family=\"Helvetica,sans-Serif\" font-size=\"14.00\">gini = 0.451</text>\r\n",
       "<text text-anchor=\"start\" x=\"1123\" y=\"-141.8\" font-family=\"Helvetica,sans-Serif\" font-size=\"14.00\">samples = 1634</text>\r\n",
       "<text text-anchor=\"start\" x=\"1113.5\" y=\"-126.8\" font-family=\"Helvetica,sans-Serif\" font-size=\"14.00\">value = [562, 1072]</text>\r\n",
       "<text text-anchor=\"start\" x=\"1136\" y=\"-111.8\" font-family=\"Helvetica,sans-Serif\" font-size=\"14.00\">class = Asia</text>\r\n",
       "</g>\r\n",
       "<!-- 2&#45;&gt;8 -->\r\n",
       "<g id=\"edge12\" class=\"edge\">\r\n",
       "<title>2&#45;&gt;8</title>\r\n",
       "<path fill=\"none\" stroke=\"black\" d=\"M995.73,-229.5C1027.21,-214.89 1064.05,-197.78 1096.08,-182.91\"/>\r\n",
       "<polygon fill=\"black\" stroke=\"black\" points=\"1097.82,-185.96 1105.42,-178.57 1094.87,-179.61 1097.82,-185.96\"/>\r\n",
       "</g>\r\n",
       "<!-- 9 -->\r\n",
       "<g id=\"node11\" class=\"node\">\r\n",
       "<title>9</title>\r\n",
       "<path fill=\"#efb387\" stroke=\"black\" d=\"M931,-68C931,-68 770,-68 770,-68 764,-68 758,-62 758,-56 758,-56 758,-12 758,-12 758,-6 764,0 770,0 770,0 931,0 931,0 937,0 943,-6 943,-12 943,-12 943,-56 943,-56 943,-62 937,-68 931,-68\"/>\r\n",
       "<text text-anchor=\"start\" x=\"813\" y=\"-52.8\" font-family=\"Helvetica,sans-Serif\" font-size=\"14.00\">gini = 0.406</text>\r\n",
       "<text text-anchor=\"start\" x=\"803\" y=\"-37.8\" font-family=\"Helvetica,sans-Serif\" font-size=\"14.00\">samples = 441</text>\r\n",
       "<text text-anchor=\"start\" x=\"793.5\" y=\"-22.8\" font-family=\"Helvetica,sans-Serif\" font-size=\"14.00\">value = [316, 125]</text>\r\n",
       "<text text-anchor=\"start\" x=\"766\" y=\"-7.8\" font-family=\"Helvetica,sans-Serif\" font-size=\"14.00\">class = Western_countries</text>\r\n",
       "</g>\r\n",
       "<!-- 7&#45;&gt;9 -->\r\n",
       "<g id=\"edge10\" class=\"edge\">\r\n",
       "<title>7&#45;&gt;9</title>\r\n",
       "<path fill=\"none\" stroke=\"black\" d=\"M895.69,-103.73C889.93,-94.97 883.84,-85.7 878.05,-76.91\"/>\r\n",
       "<polygon fill=\"black\" stroke=\"black\" points=\"880.81,-74.73 872.4,-68.3 874.97,-78.58 880.81,-74.73\"/>\r\n",
       "</g>\r\n",
       "<!-- 10 -->\r\n",
       "<g id=\"node12\" class=\"node\">\r\n",
       "<title>10</title>\r\n",
       "<path fill=\"#f5fafe\" stroke=\"black\" d=\"M1079.5,-68C1079.5,-68 973.5,-68 973.5,-68 967.5,-68 961.5,-62 961.5,-56 961.5,-56 961.5,-12 961.5,-12 961.5,-6 967.5,0 973.5,0 973.5,0 1079.5,0 1079.5,0 1085.5,0 1091.5,-6 1091.5,-12 1091.5,-12 1091.5,-56 1091.5,-56 1091.5,-62 1085.5,-68 1079.5,-68\"/>\r\n",
       "<text text-anchor=\"start\" x=\"997.5\" y=\"-52.8\" font-family=\"Helvetica,sans-Serif\" font-size=\"14.00\">gini = 0.5</text>\r\n",
       "<text text-anchor=\"start\" x=\"979\" y=\"-37.8\" font-family=\"Helvetica,sans-Serif\" font-size=\"14.00\">samples = 962</text>\r\n",
       "<text text-anchor=\"start\" x=\"969.5\" y=\"-22.8\" font-family=\"Helvetica,sans-Serif\" font-size=\"14.00\">value = [469, 493]</text>\r\n",
       "<text text-anchor=\"start\" x=\"988\" y=\"-7.8\" font-family=\"Helvetica,sans-Serif\" font-size=\"14.00\">class = Asia</text>\r\n",
       "</g>\r\n",
       "<!-- 7&#45;&gt;10 -->\r\n",
       "<g id=\"edge11\" class=\"edge\">\r\n",
       "<title>7&#45;&gt;10</title>\r\n",
       "<path fill=\"none\" stroke=\"black\" d=\"M961.23,-103.73C969.89,-94.61 979.08,-84.93 987.74,-75.81\"/>\r\n",
       "<polygon fill=\"black\" stroke=\"black\" points=\"990.52,-77.96 994.87,-68.3 985.45,-73.14 990.52,-77.96\"/>\r\n",
       "</g>\r\n",
       "<!-- 13 -->\r\n",
       "<g id=\"node14\" class=\"node\">\r\n",
       "<title>13</title>\r\n",
       "<path fill=\"#93caf1\" stroke=\"black\" d=\"M1227.5,-68C1227.5,-68 1121.5,-68 1121.5,-68 1115.5,-68 1109.5,-62 1109.5,-56 1109.5,-56 1109.5,-12 1109.5,-12 1109.5,-6 1115.5,0 1121.5,0 1121.5,0 1227.5,0 1227.5,0 1233.5,0 1239.5,-6 1239.5,-12 1239.5,-12 1239.5,-56 1239.5,-56 1239.5,-62 1233.5,-68 1227.5,-68\"/>\r\n",
       "<text text-anchor=\"start\" x=\"1141\" y=\"-52.8\" font-family=\"Helvetica,sans-Serif\" font-size=\"14.00\">gini = 0.43</text>\r\n",
       "<text text-anchor=\"start\" x=\"1123\" y=\"-37.8\" font-family=\"Helvetica,sans-Serif\" font-size=\"14.00\">samples = 1425</text>\r\n",
       "<text text-anchor=\"start\" x=\"1117.5\" y=\"-22.8\" font-family=\"Helvetica,sans-Serif\" font-size=\"14.00\">value = [446, 979]</text>\r\n",
       "<text text-anchor=\"start\" x=\"1136\" y=\"-7.8\" font-family=\"Helvetica,sans-Serif\" font-size=\"14.00\">class = Asia</text>\r\n",
       "</g>\r\n",
       "<!-- 8&#45;&gt;13 -->\r\n",
       "<g id=\"edge13\" class=\"edge\">\r\n",
       "<title>8&#45;&gt;13</title>\r\n",
       "<path fill=\"none\" stroke=\"black\" d=\"M1174.5,-103.73C1174.5,-95.52 1174.5,-86.86 1174.5,-78.56\"/>\r\n",
       "<polygon fill=\"black\" stroke=\"black\" points=\"1178,-78.3 1174.5,-68.3 1171,-78.3 1178,-78.3\"/>\r\n",
       "</g>\r\n",
       "<!-- 14 -->\r\n",
       "<g id=\"node15\" class=\"node\">\r\n",
       "<title>14</title>\r\n",
       "<path fill=\"#fae6d8\" stroke=\"black\" d=\"M1431,-68C1431,-68 1270,-68 1270,-68 1264,-68 1258,-62 1258,-56 1258,-56 1258,-12 1258,-12 1258,-6 1264,0 1270,0 1270,0 1431,0 1431,0 1437,0 1443,-6 1443,-12 1443,-12 1443,-56 1443,-56 1443,-62 1437,-68 1431,-68\"/>\r\n",
       "<text text-anchor=\"start\" x=\"1313\" y=\"-52.8\" font-family=\"Helvetica,sans-Serif\" font-size=\"14.00\">gini = 0.494</text>\r\n",
       "<text text-anchor=\"start\" x=\"1303\" y=\"-37.8\" font-family=\"Helvetica,sans-Serif\" font-size=\"14.00\">samples = 209</text>\r\n",
       "<text text-anchor=\"start\" x=\"1297.5\" y=\"-22.8\" font-family=\"Helvetica,sans-Serif\" font-size=\"14.00\">value = [116, 93]</text>\r\n",
       "<text text-anchor=\"start\" x=\"1266\" y=\"-7.8\" font-family=\"Helvetica,sans-Serif\" font-size=\"14.00\">class = Western_countries</text>\r\n",
       "</g>\r\n",
       "<!-- 8&#45;&gt;14 -->\r\n",
       "<g id=\"edge14\" class=\"edge\">\r\n",
       "<title>8&#45;&gt;14</title>\r\n",
       "<path fill=\"none\" stroke=\"black\" d=\"M1240.04,-103.73C1255.95,-93.82 1272.92,-83.27 1288.66,-73.48\"/>\r\n",
       "<polygon fill=\"black\" stroke=\"black\" points=\"1290.62,-76.38 1297.26,-68.13 1286.92,-70.44 1290.62,-76.38\"/>\r\n",
       "</g>\r\n",
       "</g>\r\n",
       "</svg>\r\n"
      ],
      "text/plain": [
       "<graphviz.files.Source at 0x17e34c0>"
      ]
     },
     "execution_count": 72,
     "metadata": {},
     "output_type": "execute_result"
    }
   ],
   "source": [
    "graphClf = print_tree(d_tree=clftree, f_names=X1.columns, c_names=['Western_countries', 'Asia'])                                                         \n",
    "graphClf"
   ]
  },
  {
   "cell_type": "code",
   "execution_count": 73,
   "metadata": {},
   "outputs": [],
   "source": [
    "with open('iris.png','wb') as f:\n",
    "    f.write(graphClf.pipe(format='png'))"
   ]
  },
  {
   "cell_type": "markdown",
   "metadata": {},
   "source": [
    "### <mark>Comment: \n",
    "    We can see V50 (When a mother works for pay, the children will suffer or not) is the most important variable to different whether that region belongs to Asia or Western area. \n",
    "    For example, if the value of V50 in one sample is less than 1.5, the tree will put that sample into western area. Otherwise, the tree will put that sample into Asia area. \n",
    "    Furthermore, the gini value equals to 0.491. ---> 1-(4644/8214)**2-(3570/8214)**2\n",
    "    From the value of 0.491 of the gini, we can know V50 has a not bad ability to differentiate the different samples. "
   ]
  },
  {
   "cell_type": "markdown",
   "metadata": {},
   "source": [
    "### Training Set Accuracy"
   ]
  },
  {
   "cell_type": "code",
   "execution_count": 74,
   "metadata": {},
   "outputs": [
    {
     "name": "stdout",
     "output_type": "stream",
     "text": [
      "Training Set Classification Accuracy: 0.6989286583881178\n",
      "Confusion Matrix:\n"
     ]
    },
    {
     "data": {
      "text/html": [
       "<div>\n",
       "<style scoped>\n",
       "    .dataframe tbody tr th:only-of-type {\n",
       "        vertical-align: middle;\n",
       "    }\n",
       "\n",
       "    .dataframe tbody tr th {\n",
       "        vertical-align: top;\n",
       "    }\n",
       "\n",
       "    .dataframe thead th {\n",
       "        text-align: right;\n",
       "    }\n",
       "</style>\n",
       "<table border=\"1\" class=\"dataframe\">\n",
       "  <thead>\n",
       "    <tr style=\"text-align: right;\">\n",
       "      <th>Predicted</th>\n",
       "      <th>Western_countries</th>\n",
       "      <th>Asia</th>\n",
       "    </tr>\n",
       "    <tr>\n",
       "      <th>Actual</th>\n",
       "      <th></th>\n",
       "      <th></th>\n",
       "    </tr>\n",
       "  </thead>\n",
       "  <tbody>\n",
       "    <tr>\n",
       "      <th>Western_countries</th>\n",
       "      <td>3396</td>\n",
       "      <td>1248</td>\n",
       "    </tr>\n",
       "    <tr>\n",
       "      <th>Asia</th>\n",
       "      <td>1225</td>\n",
       "      <td>2345</td>\n",
       "    </tr>\n",
       "  </tbody>\n",
       "</table>\n",
       "</div>"
      ],
      "text/plain": [
       "Predicted          Western_countries  Asia\n",
       "Actual                                    \n",
       "Western_countries               3396  1248\n",
       "Asia                            1225  2345"
      ]
     },
     "metadata": {},
     "output_type": "display_data"
    },
    {
     "name": "stdout",
     "output_type": "stream",
     "text": [
      "Classification Report:\n",
      "              precision    recall  f1-score   support\n",
      "\n",
      "           0       0.73      0.73      0.73      4644\n",
      "           1       0.65      0.66      0.65      3570\n",
      "\n",
      "    accuracy                           0.70      8214\n",
      "   macro avg       0.69      0.69      0.69      8214\n",
      "weighted avg       0.70      0.70      0.70      8214\n",
      "\n"
     ]
    }
   ],
   "source": [
    "print(\"Training Set Classification Accuracy:\", clftree.score(X_train,y_train))\n",
    "\n",
    "print(\"Confusion Matrix:\")\n",
    "cm = pd.DataFrame(confusion_matrix(y_train, clftree.predict(X_train)), index=['Western_countries', 'Asia'], columns=['Western_countries', 'Asia'])\n",
    "cm.index.name = 'Actual'\n",
    "cm.columns.name = 'Predicted'\n",
    "display(cm)\n",
    "\n",
    "print(\"Classification Report:\")\n",
    "print(classification_report(y_train, clftree.predict(X_train)))"
   ]
  },
  {
   "cell_type": "markdown",
   "metadata": {},
   "source": [
    "### Test Set Accuracy"
   ]
  },
  {
   "cell_type": "code",
   "execution_count": 75,
   "metadata": {},
   "outputs": [
    {
     "name": "stdout",
     "output_type": "stream",
     "text": [
      "Test Set Classification Accuracy: 0.7003895787679572\n",
      "Confusion Matrix:\n"
     ]
    },
    {
     "data": {
      "text/html": [
       "<div>\n",
       "<style scoped>\n",
       "    .dataframe tbody tr th:only-of-type {\n",
       "        vertical-align: middle;\n",
       "    }\n",
       "\n",
       "    .dataframe tbody tr th {\n",
       "        vertical-align: top;\n",
       "    }\n",
       "\n",
       "    .dataframe thead th {\n",
       "        text-align: right;\n",
       "    }\n",
       "</style>\n",
       "<table border=\"1\" class=\"dataframe\">\n",
       "  <thead>\n",
       "    <tr style=\"text-align: right;\">\n",
       "      <th>Predicted</th>\n",
       "      <th>Western_countries</th>\n",
       "      <th>Asia</th>\n",
       "    </tr>\n",
       "    <tr>\n",
       "      <th>Actual</th>\n",
       "      <th></th>\n",
       "      <th></th>\n",
       "    </tr>\n",
       "  </thead>\n",
       "  <tbody>\n",
       "    <tr>\n",
       "      <th>Western_countries</th>\n",
       "      <td>3453</td>\n",
       "      <td>1219</td>\n",
       "    </tr>\n",
       "    <tr>\n",
       "      <th>Asia</th>\n",
       "      <td>1242</td>\n",
       "      <td>2300</td>\n",
       "    </tr>\n",
       "  </tbody>\n",
       "</table>\n",
       "</div>"
      ],
      "text/plain": [
       "Predicted          Western_countries  Asia\n",
       "Actual                                    \n",
       "Western_countries               3453  1219\n",
       "Asia                            1242  2300"
      ]
     },
     "metadata": {},
     "output_type": "display_data"
    },
    {
     "name": "stdout",
     "output_type": "stream",
     "text": [
      "Classification Report:\n",
      "              precision    recall  f1-score   support\n",
      "\n",
      "           0       0.74      0.74      0.74      4672\n",
      "           1       0.65      0.65      0.65      3542\n",
      "\n",
      "    accuracy                           0.70      8214\n",
      "   macro avg       0.69      0.69      0.69      8214\n",
      "weighted avg       0.70      0.70      0.70      8214\n",
      "\n"
     ]
    }
   ],
   "source": [
    "print(\"Test Set Classification Accuracy:\", clftree.score(X_test,y_test))\n",
    "\n",
    "print(\"Confusion Matrix:\")\n",
    "cm = pd.DataFrame(confusion_matrix(y_test, clftree.predict(X_test)), index=['Western_countries', 'Asia'], columns=['Western_countries', 'Asia'])\n",
    "cm.index.name = 'Actual'\n",
    "cm.columns.name = 'Predicted'\n",
    "display(cm)\n",
    "\n",
    "print(\"Classification Report:\")\n",
    "print(classification_report(y_test, clftree.predict(X_test)))"
   ]
  },
  {
   "cell_type": "markdown",
   "metadata": {},
   "source": [
    "### <mark>Comment:\n",
    "    We can see, overall, the train set accuracy is 70%, which is actually not bad for the zero and one cases. Furthermore, we can see, overall, test set accuracy almost have similar performance."
   ]
  },
  {
   "cell_type": "markdown",
   "metadata": {},
   "source": [
    "<mark><font color='hotpink' size=8 face=雅黑> Logistic Regression<font><mark>"
   ]
  },
  {
   "cell_type": "code",
   "execution_count": 76,
   "metadata": {},
   "outputs": [],
   "source": [
    "import numpy as np\n",
    "import pandas as pd\n",
    "import seaborn as sns\n",
    "\n",
    "import matplotlib.pylab as plt\n",
    "%matplotlib inline \n",
    "\n",
    "from sklearn.linear_model import LogisticRegression, LogisticRegressionCV\n",
    "from sklearn.model_selection import train_test_split\n",
    "from sklearn.metrics import confusion_matrix, plot_confusion_matrix, plot_roc_curve, roc_auc_score, classification_report, precision_score, accuracy_score, recall_score, f1_score"
   ]
  },
  {
   "cell_type": "code",
   "execution_count": 77,
   "metadata": {},
   "outputs": [],
   "source": [
    "Y = df['Outcome']\n",
    "X = df.drop(columns=['Outcome'])"
   ]
  },
  {
   "cell_type": "code",
   "execution_count": 78,
   "metadata": {},
   "outputs": [],
   "source": [
    "X_train, X_valid, Y_train, Y_valid = train_test_split(X, Y, test_size=0.25, random_state=42)"
   ]
  },
  {
   "cell_type": "markdown",
   "metadata": {},
   "source": [
    "### Regularization"
   ]
  },
  {
   "cell_type": "code",
   "execution_count": 79,
   "metadata": {},
   "outputs": [
    {
     "data": {
      "text/plain": [
       "LogisticRegression(C=1e+42, solver='liblinear')"
      ]
     },
     "execution_count": 79,
     "metadata": {},
     "output_type": "execute_result"
    }
   ],
   "source": [
    "logit_reg = LogisticRegression(penalty=\"l2\", C=1e42, solver='liblinear')\n",
    "logit_reg.fit(X_train, Y_train)"
   ]
  },
  {
   "cell_type": "code",
   "execution_count": 80,
   "metadata": {},
   "outputs": [
    {
     "name": "stdout",
     "output_type": "stream",
     "text": [
      "intercept  -3.4090390945253572\n"
     ]
    },
    {
     "data": {
      "text/html": [
       "<div>\n",
       "<style scoped>\n",
       "    .dataframe tbody tr th:only-of-type {\n",
       "        vertical-align: middle;\n",
       "    }\n",
       "\n",
       "    .dataframe tbody tr th {\n",
       "        vertical-align: top;\n",
       "    }\n",
       "\n",
       "    .dataframe thead th {\n",
       "        text-align: right;\n",
       "    }\n",
       "</style>\n",
       "<table border=\"1\" class=\"dataframe\">\n",
       "  <thead>\n",
       "    <tr style=\"text-align: right;\">\n",
       "      <th></th>\n",
       "      <th>coeff</th>\n",
       "    </tr>\n",
       "  </thead>\n",
       "  <tbody>\n",
       "    <tr>\n",
       "      <th>V10</th>\n",
       "      <td>0.331762</td>\n",
       "    </tr>\n",
       "    <tr>\n",
       "      <th>V23</th>\n",
       "      <td>-0.039453</td>\n",
       "    </tr>\n",
       "    <tr>\n",
       "      <th>V45</th>\n",
       "      <td>0.453218</td>\n",
       "    </tr>\n",
       "    <tr>\n",
       "      <th>V47</th>\n",
       "      <td>0.126793</td>\n",
       "    </tr>\n",
       "    <tr>\n",
       "      <th>V50</th>\n",
       "      <td>0.199521</td>\n",
       "    </tr>\n",
       "    <tr>\n",
       "      <th>V52</th>\n",
       "      <td>0.348849</td>\n",
       "    </tr>\n",
       "    <tr>\n",
       "      <th>V53</th>\n",
       "      <td>-0.013833</td>\n",
       "    </tr>\n",
       "    <tr>\n",
       "      <th>V67</th>\n",
       "      <td>0.038160</td>\n",
       "    </tr>\n",
       "    <tr>\n",
       "      <th>V70</th>\n",
       "      <td>-0.157464</td>\n",
       "    </tr>\n",
       "    <tr>\n",
       "      <th>V71</th>\n",
       "      <td>0.126493</td>\n",
       "    </tr>\n",
       "    <tr>\n",
       "      <th>V97</th>\n",
       "      <td>0.075023</td>\n",
       "    </tr>\n",
       "    <tr>\n",
       "      <th>V120</th>\n",
       "      <td>0.646142</td>\n",
       "    </tr>\n",
       "    <tr>\n",
       "      <th>V143</th>\n",
       "      <td>0.058428</td>\n",
       "    </tr>\n",
       "    <tr>\n",
       "      <th>V163</th>\n",
       "      <td>-0.048353</td>\n",
       "    </tr>\n",
       "    <tr>\n",
       "      <th>V167</th>\n",
       "      <td>0.189246</td>\n",
       "    </tr>\n",
       "    <tr>\n",
       "      <th>V172</th>\n",
       "      <td>-0.059618</td>\n",
       "    </tr>\n",
       "    <tr>\n",
       "      <th>V181</th>\n",
       "      <td>0.517727</td>\n",
       "    </tr>\n",
       "    <tr>\n",
       "      <th>V203</th>\n",
       "      <td>-0.083857</td>\n",
       "    </tr>\n",
       "    <tr>\n",
       "      <th>V207</th>\n",
       "      <td>-0.019133</td>\n",
       "    </tr>\n",
       "  </tbody>\n",
       "</table>\n",
       "</div>"
      ],
      "text/plain": [
       "         coeff\n",
       "V10   0.331762\n",
       "V23  -0.039453\n",
       "V45   0.453218\n",
       "V47   0.126793\n",
       "V50   0.199521\n",
       "V52   0.348849\n",
       "V53  -0.013833\n",
       "V67   0.038160\n",
       "V70  -0.157464\n",
       "V71   0.126493\n",
       "V97   0.075023\n",
       "V120  0.646142\n",
       "V143  0.058428\n",
       "V163 -0.048353\n",
       "V167  0.189246\n",
       "V172 -0.059618\n",
       "V181  0.517727\n",
       "V203 -0.083857\n",
       "V207 -0.019133"
      ]
     },
     "execution_count": 80,
     "metadata": {},
     "output_type": "execute_result"
    }
   ],
   "source": [
    "print('intercept ', logit_reg.intercept_[0])\n",
    "pd.DataFrame({'coeff': logit_reg.coef_[0]}, index=X.columns)"
   ]
  },
  {
   "cell_type": "code",
   "execution_count": 81,
   "metadata": {},
   "outputs": [
    {
     "data": {
      "text/html": [
       "<div>\n",
       "<style scoped>\n",
       "    .dataframe tbody tr th:only-of-type {\n",
       "        vertical-align: middle;\n",
       "    }\n",
       "\n",
       "    .dataframe tbody tr th {\n",
       "        vertical-align: top;\n",
       "    }\n",
       "\n",
       "    .dataframe thead th {\n",
       "        text-align: right;\n",
       "    }\n",
       "</style>\n",
       "<table border=\"1\" class=\"dataframe\">\n",
       "  <thead>\n",
       "    <tr style=\"text-align: right;\">\n",
       "      <th></th>\n",
       "      <th>actual_class</th>\n",
       "      <th>P(Y=0)</th>\n",
       "      <th>P(Y=1)</th>\n",
       "      <th>predicted_class</th>\n",
       "    </tr>\n",
       "  </thead>\n",
       "  <tbody>\n",
       "    <tr>\n",
       "      <th>28520</th>\n",
       "      <td>1</td>\n",
       "      <td>0.361241</td>\n",
       "      <td>0.638759</td>\n",
       "      <td>1</td>\n",
       "    </tr>\n",
       "    <tr>\n",
       "      <th>61629</th>\n",
       "      <td>1</td>\n",
       "      <td>0.038367</td>\n",
       "      <td>0.961633</td>\n",
       "      <td>1</td>\n",
       "    </tr>\n",
       "    <tr>\n",
       "      <th>72233</th>\n",
       "      <td>1</td>\n",
       "      <td>0.115834</td>\n",
       "      <td>0.884166</td>\n",
       "      <td>1</td>\n",
       "    </tr>\n",
       "    <tr>\n",
       "      <th>26395</th>\n",
       "      <td>1</td>\n",
       "      <td>0.284845</td>\n",
       "      <td>0.715155</td>\n",
       "      <td>1</td>\n",
       "    </tr>\n",
       "    <tr>\n",
       "      <th>51713</th>\n",
       "      <td>1</td>\n",
       "      <td>0.283248</td>\n",
       "      <td>0.716752</td>\n",
       "      <td>1</td>\n",
       "    </tr>\n",
       "  </tbody>\n",
       "</table>\n",
       "</div>"
      ],
      "text/plain": [
       "       actual_class    P(Y=0)    P(Y=1)  predicted_class\n",
       "28520             1  0.361241  0.638759                1\n",
       "61629             1  0.038367  0.961633                1\n",
       "72233             1  0.115834  0.884166                1\n",
       "26395             1  0.284845  0.715155                1\n",
       "51713             1  0.283248  0.716752                1"
      ]
     },
     "execution_count": 81,
     "metadata": {},
     "output_type": "execute_result"
    }
   ],
   "source": [
    "Y_valid_predicted = logit_reg.predict(X_valid) \n",
    "Y_valid_pred_prob = logit_reg.predict_proba(X_valid) \n",
    "\n",
    "logit_result = pd.DataFrame({'actual_class': Y_valid, \n",
    "                             'P(Y=0)': [p[0] for p in Y_valid_pred_prob],\n",
    "                             'P(Y=1)': [p[1] for p in Y_valid_pred_prob],\n",
    "                             'predicted_class': Y_valid_predicted})\n",
    "\n",
    "logit_result[logit_result.predicted_class == 1].head()"
   ]
  },
  {
   "cell_type": "markdown",
   "metadata": {},
   "source": [
    "### <mark>Comment:\n",
    "    For example, 28520 have the 63.8% probablity to be predicted as the class 1, meaning this variable is predicted in Asia area."
   ]
  },
  {
   "cell_type": "code",
   "execution_count": 82,
   "metadata": {},
   "outputs": [
    {
     "data": {
      "text/html": [
       "<div>\n",
       "<style scoped>\n",
       "    .dataframe tbody tr th:only-of-type {\n",
       "        vertical-align: middle;\n",
       "    }\n",
       "\n",
       "    .dataframe tbody tr th {\n",
       "        vertical-align: top;\n",
       "    }\n",
       "\n",
       "    .dataframe thead th {\n",
       "        text-align: right;\n",
       "    }\n",
       "</style>\n",
       "<table border=\"1\" class=\"dataframe\">\n",
       "  <thead>\n",
       "    <tr style=\"text-align: right;\">\n",
       "      <th></th>\n",
       "      <th>actual_class</th>\n",
       "      <th>P(Y=0)</th>\n",
       "      <th>P(Y=1)</th>\n",
       "      <th>predicted_class</th>\n",
       "    </tr>\n",
       "  </thead>\n",
       "  <tbody>\n",
       "    <tr>\n",
       "      <th>21723</th>\n",
       "      <td>0</td>\n",
       "      <td>0.927944</td>\n",
       "      <td>0.072056</td>\n",
       "      <td>0</td>\n",
       "    </tr>\n",
       "    <tr>\n",
       "      <th>12780</th>\n",
       "      <td>1</td>\n",
       "      <td>0.804972</td>\n",
       "      <td>0.195028</td>\n",
       "      <td>0</td>\n",
       "    </tr>\n",
       "    <tr>\n",
       "      <th>69697</th>\n",
       "      <td>0</td>\n",
       "      <td>0.943526</td>\n",
       "      <td>0.056474</td>\n",
       "      <td>0</td>\n",
       "    </tr>\n",
       "    <tr>\n",
       "      <th>80215</th>\n",
       "      <td>0</td>\n",
       "      <td>0.886837</td>\n",
       "      <td>0.113163</td>\n",
       "      <td>0</td>\n",
       "    </tr>\n",
       "    <tr>\n",
       "      <th>21189</th>\n",
       "      <td>0</td>\n",
       "      <td>0.631270</td>\n",
       "      <td>0.368730</td>\n",
       "      <td>0</td>\n",
       "    </tr>\n",
       "  </tbody>\n",
       "</table>\n",
       "</div>"
      ],
      "text/plain": [
       "       actual_class    P(Y=0)    P(Y=1)  predicted_class\n",
       "21723             0  0.927944  0.072056                0\n",
       "12780             1  0.804972  0.195028                0\n",
       "69697             0  0.943526  0.056474                0\n",
       "80215             0  0.886837  0.113163                0\n",
       "21189             0  0.631270  0.368730                0"
      ]
     },
     "execution_count": 82,
     "metadata": {},
     "output_type": "execute_result"
    }
   ],
   "source": [
    "logit_result[logit_result.predicted_class == 0].head()"
   ]
  },
  {
   "cell_type": "code",
   "execution_count": 83,
   "metadata": {},
   "outputs": [
    {
     "name": "stdout",
     "output_type": "stream",
     "text": [
      "************Logistic Regression************\n",
      "Validation Set Classification accuracy: 0.7472607742878014\n",
      "\n",
      "\n",
      "Validation Set Confusion matrix: \n",
      "[[1850  456]\n",
      " [ 582 1219]]\n",
      "\n",
      "\n",
      "Validation Set Classification Report:\n",
      "               precision    recall  f1-score   support\n",
      "\n",
      "           0       0.76      0.80      0.78      2306\n",
      "           1       0.73      0.68      0.70      1801\n",
      "\n",
      "    accuracy                           0.75      4107\n",
      "   macro avg       0.74      0.74      0.74      4107\n",
      "weighted avg       0.75      0.75      0.75      4107\n",
      "\n"
     ]
    }
   ],
   "source": [
    "conf_matrix = confusion_matrix(Y_valid, Y_valid_predicted)\n",
    "print('************Logistic Regression************')\n",
    "print(\"Validation Set Classification accuracy:\", logit_reg.score(X_valid,Y_valid))\n",
    "print(\"\\n\")\n",
    "print (\"Validation Set Confusion matrix: \\n\" + str(conf_matrix))\n",
    "print(\"\\n\")\n",
    "print(\"Validation Set Classification Report:\\n\",classification_report(Y_valid, Y_valid_predicted))"
   ]
  },
  {
   "cell_type": "code",
   "execution_count": 84,
   "metadata": {},
   "outputs": [
    {
     "name": "stdout",
     "output_type": "stream",
     "text": [
      "[[1850  456]\n",
      " [ 582 1219]]\n"
     ]
    },
    {
     "data": {
      "image/png": "[encoded data removed]",
      "text/plain": [
       "<Figure size 432x288 with 2 Axes>"
      ]
     },
     "metadata": {
      "needs_background": "light"
     },
     "output_type": "display_data"
    }
   ],
   "source": [
    "disp = plot_confusion_matrix(logit_reg, X_valid, Y_valid,\n",
    "                                 display_labels=['Western_countries', 'Asia'],\n",
    "                                 cmap=plt.cm.RdPu,\n",
    "                                 normalize=None)\n",
    "print(disp.confusion_matrix)"
   ]
  },
  {
   "cell_type": "code",
   "execution_count": 85,
   "metadata": {},
   "outputs": [
    {
     "name": "stdout",
     "output_type": "stream",
     "text": [
      "Area under the ROC: 0.8157870278292922\n"
     ]
    },
    {
     "data": {
      "image/png": "[encoded data removed]",
      "text/plain": [
       "<Figure size 432x288 with 1 Axes>"
      ]
     },
     "metadata": {
      "needs_background": "light"
     },
     "output_type": "display_data"
    }
   ],
   "source": [
    "viz = plot_roc_curve(logit_reg, X_valid, Y_valid)\n",
    "print('Area under the ROC:', viz.roc_auc)   \n",
    "plt.plot([0, 1], [0, 1])\n",
    "plt.xlim([0.0, 1.0]) \n",
    "plt.ylim([0.0, 1.0])\n",
    "plt.show();"
   ]
  },
  {
   "cell_type": "markdown",
   "metadata": {},
   "source": [
    "### <mark>Overall Comment:\n",
    "    We can use the confusion matrix and classification accuracy to evaluate our model.\n",
    "    So, for the accuracy of our classifier on the validation test, it is about 74% and for predicting zero and one.\n",
    "    Furthermore, we can see, when we plug the confusion matrix, most of our data are into true negative and ture positive. \n",
    "    Even though there are some samples are mispredicted,  overall data we have is still under control.\n",
    "    Also, we can use auc curve to see how our model works so here. \n",
    "    Actually, the Auc is doing pretty good is very close to one and significantly larger than the random guess."
   ]
  },
  {
   "cell_type": "markdown",
   "metadata": {},
   "source": [
    "### Crossvalidated Estimators"
   ]
  },
  {
   "cell_type": "code",
   "execution_count": 86,
   "metadata": {},
   "outputs": [
    {
     "data": {
      "text/plain": [
       "LogisticRegressionCV(cv=5, max_iter=2000, penalty='l1', solver='liblinear')"
      ]
     },
     "execution_count": 86,
     "metadata": {},
     "output_type": "execute_result"
    }
   ],
   "source": [
    "logit_cv = LogisticRegressionCV(penalty='l1', solver='liblinear', cv=5, max_iter=2000)\n",
    "logit_cv.fit(X_train, Y_train)"
   ]
  },
  {
   "cell_type": "code",
   "execution_count": 87,
   "metadata": {},
   "outputs": [
    {
     "name": "stdout",
     "output_type": "stream",
     "text": [
      "intercept  -3.4090390945253572\n"
     ]
    },
    {
     "data": {
      "text/html": [
       "<div>\n",
       "<style scoped>\n",
       "    .dataframe tbody tr th:only-of-type {\n",
       "        vertical-align: middle;\n",
       "    }\n",
       "\n",
       "    .dataframe tbody tr th {\n",
       "        vertical-align: top;\n",
       "    }\n",
       "\n",
       "    .dataframe thead th {\n",
       "        text-align: right;\n",
       "    }\n",
       "</style>\n",
       "<table border=\"1\" class=\"dataframe\">\n",
       "  <thead>\n",
       "    <tr style=\"text-align: right;\">\n",
       "      <th></th>\n",
       "      <th>coeff</th>\n",
       "    </tr>\n",
       "  </thead>\n",
       "  <tbody>\n",
       "    <tr>\n",
       "      <th>V10</th>\n",
       "      <td>0.331762</td>\n",
       "    </tr>\n",
       "    <tr>\n",
       "      <th>V23</th>\n",
       "      <td>-0.039453</td>\n",
       "    </tr>\n",
       "    <tr>\n",
       "      <th>V45</th>\n",
       "      <td>0.453218</td>\n",
       "    </tr>\n",
       "    <tr>\n",
       "      <th>V47</th>\n",
       "      <td>0.126793</td>\n",
       "    </tr>\n",
       "    <tr>\n",
       "      <th>V50</th>\n",
       "      <td>0.199521</td>\n",
       "    </tr>\n",
       "    <tr>\n",
       "      <th>V52</th>\n",
       "      <td>0.348849</td>\n",
       "    </tr>\n",
       "    <tr>\n",
       "      <th>V53</th>\n",
       "      <td>-0.013833</td>\n",
       "    </tr>\n",
       "    <tr>\n",
       "      <th>V67</th>\n",
       "      <td>0.038160</td>\n",
       "    </tr>\n",
       "    <tr>\n",
       "      <th>V70</th>\n",
       "      <td>-0.157464</td>\n",
       "    </tr>\n",
       "    <tr>\n",
       "      <th>V71</th>\n",
       "      <td>0.126493</td>\n",
       "    </tr>\n",
       "    <tr>\n",
       "      <th>V97</th>\n",
       "      <td>0.075023</td>\n",
       "    </tr>\n",
       "    <tr>\n",
       "      <th>V120</th>\n",
       "      <td>0.646142</td>\n",
       "    </tr>\n",
       "    <tr>\n",
       "      <th>V143</th>\n",
       "      <td>0.058428</td>\n",
       "    </tr>\n",
       "    <tr>\n",
       "      <th>V163</th>\n",
       "      <td>-0.048353</td>\n",
       "    </tr>\n",
       "    <tr>\n",
       "      <th>V167</th>\n",
       "      <td>0.189246</td>\n",
       "    </tr>\n",
       "    <tr>\n",
       "      <th>V172</th>\n",
       "      <td>-0.059618</td>\n",
       "    </tr>\n",
       "    <tr>\n",
       "      <th>V181</th>\n",
       "      <td>0.517727</td>\n",
       "    </tr>\n",
       "    <tr>\n",
       "      <th>V203</th>\n",
       "      <td>-0.083857</td>\n",
       "    </tr>\n",
       "    <tr>\n",
       "      <th>V207</th>\n",
       "      <td>-0.019133</td>\n",
       "    </tr>\n",
       "  </tbody>\n",
       "</table>\n",
       "</div>"
      ],
      "text/plain": [
       "         coeff\n",
       "V10   0.331762\n",
       "V23  -0.039453\n",
       "V45   0.453218\n",
       "V47   0.126793\n",
       "V50   0.199521\n",
       "V52   0.348849\n",
       "V53  -0.013833\n",
       "V67   0.038160\n",
       "V70  -0.157464\n",
       "V71   0.126493\n",
       "V97   0.075023\n",
       "V120  0.646142\n",
       "V143  0.058428\n",
       "V163 -0.048353\n",
       "V167  0.189246\n",
       "V172 -0.059618\n",
       "V181  0.517727\n",
       "V203 -0.083857\n",
       "V207 -0.019133"
      ]
     },
     "execution_count": 87,
     "metadata": {},
     "output_type": "execute_result"
    }
   ],
   "source": [
    "print('intercept ', logit_reg.intercept_[0])\n",
    "pd.DataFrame({'coeff': logit_reg.coef_[0]}, index=X.columns)"
   ]
  },
  {
   "cell_type": "code",
   "execution_count": 88,
   "metadata": {},
   "outputs": [
    {
     "name": "stdout",
     "output_type": "stream",
     "text": [
      "************Logistic Regression************\n",
      "Validation Set Classification accuracy: 0.7472607742878014\n",
      "\n",
      "\n",
      "Validation Set Confusion matrix: \n",
      "[[1850  456]\n",
      " [ 582 1219]]\n",
      "\n",
      "\n",
      "Validation Set Classification Report:\n",
      "               precision    recall  f1-score   support\n",
      "\n",
      "           0       0.76      0.80      0.78      2306\n",
      "           1       0.73      0.68      0.70      1801\n",
      "\n",
      "    accuracy                           0.75      4107\n",
      "   macro avg       0.74      0.74      0.74      4107\n",
      "weighted avg       0.75      0.75      0.75      4107\n",
      "\n"
     ]
    }
   ],
   "source": [
    "Y_valid_pred_cv = logit_cv.predict(X_valid) \n",
    "\n",
    "conf_matrix_cv = confusion_matrix(Y_valid, Y_valid_pred_cv)\n",
    "print('************Logistic Regression************')\n",
    "print(\"Validation Set Classification accuracy:\", logit_reg.score(X_valid,Y_valid))\n",
    "print(\"\\n\")\n",
    "print (\"Validation Set Confusion matrix: \\n\" + str(conf_matrix_cv))\n",
    "print(\"\\n\")\n",
    "print(\"Validation Set Classification Report:\\n\",classification_report(Y_valid, Y_valid_pred_cv))"
   ]
  },
  {
   "cell_type": "code",
   "execution_count": 89,
   "metadata": {},
   "outputs": [
    {
     "name": "stdout",
     "output_type": "stream",
     "text": [
      "Area under the ROC: 0.815788472531161\n"
     ]
    },
    {
     "data": {
      "image/png": "[encoded data removed]",
      "text/plain": [
       "<Figure size 432x288 with 1 Axes>"
      ]
     },
     "metadata": {
      "needs_background": "light"
     },
     "output_type": "display_data"
    }
   ],
   "source": [
    "viz_cv = plot_roc_curve(logit_cv, X_valid, Y_valid)\n",
    "print('Area under the ROC:', viz_cv.roc_auc)   \n",
    "plt.plot([0, 1], [0, 1])\n",
    "plt.xlim([0.0, 1.0]) \n",
    "plt.ylim([0.0, 1.0])\n",
    "plt.show();"
   ]
  },
  {
   "cell_type": "markdown",
   "metadata": {},
   "source": [
    "### <mark>Comment:\n",
    "    The previous area under the AUC is 0.8157870278292922. Therefore, from results, we see actually the accuracy didn't increase a lot, because the original one is good enough. \n",
    "    So, this model does well and AUC curves performs robust."
   ]
  },
  {
   "cell_type": "markdown",
   "metadata": {},
   "source": [
    "<mark><font color='hotpink' size=8 face=雅黑>The Naive Bayes Classifiern<font><mark>"
   ]
  },
  {
   "cell_type": "code",
   "execution_count": 90,
   "metadata": {},
   "outputs": [],
   "source": [
    "from sklearn.naive_bayes import GaussianNB"
   ]
  },
  {
   "cell_type": "code",
   "execution_count": 91,
   "metadata": {},
   "outputs": [
    {
     "data": {
      "text/plain": [
       "GaussianNB()"
      ]
     },
     "execution_count": 91,
     "metadata": {},
     "output_type": "execute_result"
    }
   ],
   "source": [
    "nb_model = GaussianNB()\n",
    "nb_model.fit(X_train, Y_train)"
   ]
  },
  {
   "cell_type": "code",
   "execution_count": 92,
   "metadata": {},
   "outputs": [
    {
     "name": "stdout",
     "output_type": "stream",
     "text": [
      "************Logistic Regression************\n",
      "Validation Set Classification accuracy: 0.7399561723886048\n",
      "\n",
      "\n",
      "Validation Set Confusion matrix: \n",
      "[[1768  538]\n",
      " [ 530 1271]]\n",
      "\n",
      "\n",
      "Validation Set Classification Report:\n",
      "               precision    recall  f1-score   support\n",
      "\n",
      "           0       0.77      0.77      0.77      2306\n",
      "           1       0.70      0.71      0.70      1801\n",
      "\n",
      "    accuracy                           0.74      4107\n",
      "   macro avg       0.74      0.74      0.74      4107\n",
      "weighted avg       0.74      0.74      0.74      4107\n",
      "\n"
     ]
    }
   ],
   "source": [
    "Y_valid_pred_nb = nb_model.predict(X_valid)\n",
    "\n",
    "conf_matrix_nb = confusion_matrix(Y_valid, Y_valid_pred_nb)\n",
    "print('************Logistic Regression************')\n",
    "print(\"Validation Set Classification accuracy:\", nb_model.score(X_valid,Y_valid))\n",
    "print(\"\\n\")\n",
    "print (\"Validation Set Confusion matrix: \\n\" + str(conf_matrix_nb))\n",
    "print(\"\\n\")\n",
    "print(\"Validation Set Classification Report:\\n\",classification_report(Y_valid, Y_valid_pred_nb))"
   ]
  },
  {
   "cell_type": "code",
   "execution_count": 93,
   "metadata": {},
   "outputs": [
    {
     "data": {
      "image/png": "[encoded data removed]",
      "text/plain": [
       "<Figure size 432x288 with 1 Axes>"
      ]
     },
     "metadata": {
      "needs_background": "light"
     },
     "output_type": "display_data"
    }
   ],
   "source": [
    "viz_nb = plot_roc_curve(nb_model, X_valid, Y_valid)\n",
    "\n",
    "ax = plt.gca() \n",
    "viz.plot(ax=ax, alpha=0.8) \n",
    "viz_cv.plot(ax=ax, alpha=0.8)  \n",
    "\n",
    "plt.plot([0, 1], [0, 1])\n",
    "plt.xlim([0.0, 1.0]) \n",
    "plt.ylim([0.0, 1.0])\n",
    "plt.show();"
   ]
  }
 ],
 "metadata": {
  "kernelspec": {
   "display_name": "Python 3 (ipykernel)",
   "language": "python",
   "name": "python3"
  },
  "language_info": {
   "codemirror_mode": {
    "name": "ipython",
    "version": 3
   },
   "file_extension": ".py",
   "mimetype": "text/x-python",
   "name": "python",
   "nbconvert_exporter": "python",
   "pygments_lexer": "ipython3",
   "version": "3.10.9"
  }
 },
 "nbformat": 4,
 "nbformat_minor": 4
}
